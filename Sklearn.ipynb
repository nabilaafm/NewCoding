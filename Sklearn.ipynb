{
  "nbformat": 4,
  "nbformat_minor": 0,
  "metadata": {
    "colab": {
      "name": "Sklearn.ipynb",
      "provenance": []
    },
    "kernelspec": {
      "name": "python3",
      "display_name": "Python 3"
    },
    "language_info": {
      "name": "python"
    }
  },
  "cells": [
    {
      "cell_type": "code",
      "source": [
        "import numpy as np\n",
        "import seaborn as sns\n",
        "import pandas as pd\n",
        "from matplotlib import pyplot as plt\n",
        "import sklearn\n",
        "from sklearn.model_selection import train_test_split\n",
        "from sklearn.datasets import load_wine\n",
        "from sklearn.datasets import load_breast_cancer\n",
        "from sklearn.metrics import confusion_matrix\n",
        "from sklearn.tree import DecisionTreeClassifier\n",
        "from sklearn.metrics import accuracy_score\n",
        "from sklearn import datasets\n",
        "from sklearn import tree"
      ],
      "metadata": {
        "id": "jbSzN-Pf6Rsl"
      },
      "execution_count": null,
      "outputs": []
    },
    {
      "cell_type": "markdown",
      "source": [
        "# Data Preprocessing"
      ],
      "metadata": {
        "id": "3jsK8zUhrV6C"
      }
    },
    {
      "cell_type": "code",
      "source": [
        "diabetes_data = pd.read_csv('diabetes.csv')\n",
        "diabetes_data"
      ],
      "metadata": {
        "id": "IjQKBHoKrU9e",
        "colab": {
          "base_uri": "https://localhost:8080/",
          "height": 424
        },
        "outputId": "595674f4-0aed-42c7-f7b1-089dce3ecb42"
      },
      "execution_count": null,
      "outputs": [
        {
          "output_type": "execute_result",
          "data": {
            "text/plain": [
              "     Pregnancies  Glucose  BloodPressure  SkinThickness  Insulin   BMI  \\\n",
              "0              6      148             72             35        0  33.6   \n",
              "1              1       85             66             29        0  26.6   \n",
              "2              8      183             64              0        0  23.3   \n",
              "3              1       89             66             23       94  28.1   \n",
              "4              0      137             40             35      168  43.1   \n",
              "..           ...      ...            ...            ...      ...   ...   \n",
              "763           10      101             76             48      180  32.9   \n",
              "764            2      122             70             27        0  36.8   \n",
              "765            5      121             72             23      112  26.2   \n",
              "766            1      126             60              0        0  30.1   \n",
              "767            1       93             70             31        0  30.4   \n",
              "\n",
              "     DiabetesPedigreeFunction  Age  Outcome  \n",
              "0                       0.627   50        1  \n",
              "1                       0.351   31        0  \n",
              "2                       0.672   32        1  \n",
              "3                       0.167   21        0  \n",
              "4                       2.288   33        1  \n",
              "..                        ...  ...      ...  \n",
              "763                     0.171   63        0  \n",
              "764                     0.340   27        0  \n",
              "765                     0.245   30        0  \n",
              "766                     0.349   47        1  \n",
              "767                     0.315   23        0  \n",
              "\n",
              "[768 rows x 9 columns]"
            ],
            "text/html": [
              "\n",
              "  <div id=\"df-0a9a1e46-3c91-4588-817f-d74ab2e3dd7d\">\n",
              "    <div class=\"colab-df-container\">\n",
              "      <div>\n",
              "<style scoped>\n",
              "    .dataframe tbody tr th:only-of-type {\n",
              "        vertical-align: middle;\n",
              "    }\n",
              "\n",
              "    .dataframe tbody tr th {\n",
              "        vertical-align: top;\n",
              "    }\n",
              "\n",
              "    .dataframe thead th {\n",
              "        text-align: right;\n",
              "    }\n",
              "</style>\n",
              "<table border=\"1\" class=\"dataframe\">\n",
              "  <thead>\n",
              "    <tr style=\"text-align: right;\">\n",
              "      <th></th>\n",
              "      <th>Pregnancies</th>\n",
              "      <th>Glucose</th>\n",
              "      <th>BloodPressure</th>\n",
              "      <th>SkinThickness</th>\n",
              "      <th>Insulin</th>\n",
              "      <th>BMI</th>\n",
              "      <th>DiabetesPedigreeFunction</th>\n",
              "      <th>Age</th>\n",
              "      <th>Outcome</th>\n",
              "    </tr>\n",
              "  </thead>\n",
              "  <tbody>\n",
              "    <tr>\n",
              "      <th>0</th>\n",
              "      <td>6</td>\n",
              "      <td>148</td>\n",
              "      <td>72</td>\n",
              "      <td>35</td>\n",
              "      <td>0</td>\n",
              "      <td>33.6</td>\n",
              "      <td>0.627</td>\n",
              "      <td>50</td>\n",
              "      <td>1</td>\n",
              "    </tr>\n",
              "    <tr>\n",
              "      <th>1</th>\n",
              "      <td>1</td>\n",
              "      <td>85</td>\n",
              "      <td>66</td>\n",
              "      <td>29</td>\n",
              "      <td>0</td>\n",
              "      <td>26.6</td>\n",
              "      <td>0.351</td>\n",
              "      <td>31</td>\n",
              "      <td>0</td>\n",
              "    </tr>\n",
              "    <tr>\n",
              "      <th>2</th>\n",
              "      <td>8</td>\n",
              "      <td>183</td>\n",
              "      <td>64</td>\n",
              "      <td>0</td>\n",
              "      <td>0</td>\n",
              "      <td>23.3</td>\n",
              "      <td>0.672</td>\n",
              "      <td>32</td>\n",
              "      <td>1</td>\n",
              "    </tr>\n",
              "    <tr>\n",
              "      <th>3</th>\n",
              "      <td>1</td>\n",
              "      <td>89</td>\n",
              "      <td>66</td>\n",
              "      <td>23</td>\n",
              "      <td>94</td>\n",
              "      <td>28.1</td>\n",
              "      <td>0.167</td>\n",
              "      <td>21</td>\n",
              "      <td>0</td>\n",
              "    </tr>\n",
              "    <tr>\n",
              "      <th>4</th>\n",
              "      <td>0</td>\n",
              "      <td>137</td>\n",
              "      <td>40</td>\n",
              "      <td>35</td>\n",
              "      <td>168</td>\n",
              "      <td>43.1</td>\n",
              "      <td>2.288</td>\n",
              "      <td>33</td>\n",
              "      <td>1</td>\n",
              "    </tr>\n",
              "    <tr>\n",
              "      <th>...</th>\n",
              "      <td>...</td>\n",
              "      <td>...</td>\n",
              "      <td>...</td>\n",
              "      <td>...</td>\n",
              "      <td>...</td>\n",
              "      <td>...</td>\n",
              "      <td>...</td>\n",
              "      <td>...</td>\n",
              "      <td>...</td>\n",
              "    </tr>\n",
              "    <tr>\n",
              "      <th>763</th>\n",
              "      <td>10</td>\n",
              "      <td>101</td>\n",
              "      <td>76</td>\n",
              "      <td>48</td>\n",
              "      <td>180</td>\n",
              "      <td>32.9</td>\n",
              "      <td>0.171</td>\n",
              "      <td>63</td>\n",
              "      <td>0</td>\n",
              "    </tr>\n",
              "    <tr>\n",
              "      <th>764</th>\n",
              "      <td>2</td>\n",
              "      <td>122</td>\n",
              "      <td>70</td>\n",
              "      <td>27</td>\n",
              "      <td>0</td>\n",
              "      <td>36.8</td>\n",
              "      <td>0.340</td>\n",
              "      <td>27</td>\n",
              "      <td>0</td>\n",
              "    </tr>\n",
              "    <tr>\n",
              "      <th>765</th>\n",
              "      <td>5</td>\n",
              "      <td>121</td>\n",
              "      <td>72</td>\n",
              "      <td>23</td>\n",
              "      <td>112</td>\n",
              "      <td>26.2</td>\n",
              "      <td>0.245</td>\n",
              "      <td>30</td>\n",
              "      <td>0</td>\n",
              "    </tr>\n",
              "    <tr>\n",
              "      <th>766</th>\n",
              "      <td>1</td>\n",
              "      <td>126</td>\n",
              "      <td>60</td>\n",
              "      <td>0</td>\n",
              "      <td>0</td>\n",
              "      <td>30.1</td>\n",
              "      <td>0.349</td>\n",
              "      <td>47</td>\n",
              "      <td>1</td>\n",
              "    </tr>\n",
              "    <tr>\n",
              "      <th>767</th>\n",
              "      <td>1</td>\n",
              "      <td>93</td>\n",
              "      <td>70</td>\n",
              "      <td>31</td>\n",
              "      <td>0</td>\n",
              "      <td>30.4</td>\n",
              "      <td>0.315</td>\n",
              "      <td>23</td>\n",
              "      <td>0</td>\n",
              "    </tr>\n",
              "  </tbody>\n",
              "</table>\n",
              "<p>768 rows × 9 columns</p>\n",
              "</div>\n",
              "      <button class=\"colab-df-convert\" onclick=\"convertToInteractive('df-0a9a1e46-3c91-4588-817f-d74ab2e3dd7d')\"\n",
              "              title=\"Convert this dataframe to an interactive table.\"\n",
              "              style=\"display:none;\">\n",
              "        \n",
              "  <svg xmlns=\"http://www.w3.org/2000/svg\" height=\"24px\"viewBox=\"0 0 24 24\"\n",
              "       width=\"24px\">\n",
              "    <path d=\"M0 0h24v24H0V0z\" fill=\"none\"/>\n",
              "    <path d=\"M18.56 5.44l.94 2.06.94-2.06 2.06-.94-2.06-.94-.94-2.06-.94 2.06-2.06.94zm-11 1L8.5 8.5l.94-2.06 2.06-.94-2.06-.94L8.5 2.5l-.94 2.06-2.06.94zm10 10l.94 2.06.94-2.06 2.06-.94-2.06-.94-.94-2.06-.94 2.06-2.06.94z\"/><path d=\"M17.41 7.96l-1.37-1.37c-.4-.4-.92-.59-1.43-.59-.52 0-1.04.2-1.43.59L10.3 9.45l-7.72 7.72c-.78.78-.78 2.05 0 2.83L4 21.41c.39.39.9.59 1.41.59.51 0 1.02-.2 1.41-.59l7.78-7.78 2.81-2.81c.8-.78.8-2.07 0-2.86zM5.41 20L4 18.59l7.72-7.72 1.47 1.35L5.41 20z\"/>\n",
              "  </svg>\n",
              "      </button>\n",
              "      \n",
              "  <style>\n",
              "    .colab-df-container {\n",
              "      display:flex;\n",
              "      flex-wrap:wrap;\n",
              "      gap: 12px;\n",
              "    }\n",
              "\n",
              "    .colab-df-convert {\n",
              "      background-color: #E8F0FE;\n",
              "      border: none;\n",
              "      border-radius: 50%;\n",
              "      cursor: pointer;\n",
              "      display: none;\n",
              "      fill: #1967D2;\n",
              "      height: 32px;\n",
              "      padding: 0 0 0 0;\n",
              "      width: 32px;\n",
              "    }\n",
              "\n",
              "    .colab-df-convert:hover {\n",
              "      background-color: #E2EBFA;\n",
              "      box-shadow: 0px 1px 2px rgba(60, 64, 67, 0.3), 0px 1px 3px 1px rgba(60, 64, 67, 0.15);\n",
              "      fill: #174EA6;\n",
              "    }\n",
              "\n",
              "    [theme=dark] .colab-df-convert {\n",
              "      background-color: #3B4455;\n",
              "      fill: #D2E3FC;\n",
              "    }\n",
              "\n",
              "    [theme=dark] .colab-df-convert:hover {\n",
              "      background-color: #434B5C;\n",
              "      box-shadow: 0px 1px 3px 1px rgba(0, 0, 0, 0.15);\n",
              "      filter: drop-shadow(0px 1px 2px rgba(0, 0, 0, 0.3));\n",
              "      fill: #FFFFFF;\n",
              "    }\n",
              "  </style>\n",
              "\n",
              "      <script>\n",
              "        const buttonEl =\n",
              "          document.querySelector('#df-0a9a1e46-3c91-4588-817f-d74ab2e3dd7d button.colab-df-convert');\n",
              "        buttonEl.style.display =\n",
              "          google.colab.kernel.accessAllowed ? 'block' : 'none';\n",
              "\n",
              "        async function convertToInteractive(key) {\n",
              "          const element = document.querySelector('#df-0a9a1e46-3c91-4588-817f-d74ab2e3dd7d');\n",
              "          const dataTable =\n",
              "            await google.colab.kernel.invokeFunction('convertToInteractive',\n",
              "                                                     [key], {});\n",
              "          if (!dataTable) return;\n",
              "\n",
              "          const docLinkHtml = 'Like what you see? Visit the ' +\n",
              "            '<a target=\"_blank\" href=https://colab.research.google.com/notebooks/data_table.ipynb>data table notebook</a>'\n",
              "            + ' to learn more about interactive tables.';\n",
              "          element.innerHTML = '';\n",
              "          dataTable['output_type'] = 'display_data';\n",
              "          await google.colab.output.renderOutput(dataTable, element);\n",
              "          const docLink = document.createElement('div');\n",
              "          docLink.innerHTML = docLinkHtml;\n",
              "          element.appendChild(docLink);\n",
              "        }\n",
              "      </script>\n",
              "    </div>\n",
              "  </div>\n",
              "  "
            ]
          },
          "metadata": {},
          "execution_count": 3
        }
      ]
    },
    {
      "cell_type": "code",
      "source": [
        "#Memeriksa type data dari setiap colomn nya\n",
        "\n",
        "diabetes_data.info()"
      ],
      "metadata": {
        "id": "VJowlx7htDJM"
      },
      "execution_count": null,
      "outputs": []
    },
    {
      "cell_type": "code",
      "source": [
        "#  untuk menampilkan deskriptif statistik data. Hanya kolom yang bertipe numerik yang akan ditampilkan statistiknya.\n",
        "diabetes_data.describe().transpose() \n"
      ],
      "metadata": {
        "id": "4lucx_detex7",
        "colab": {
          "base_uri": "https://localhost:8080/",
          "height": 331
        },
        "outputId": "f06162f2-bbf4-456c-a3df-937bfdaa597a"
      },
      "execution_count": null,
      "outputs": [
        {
          "output_type": "execute_result",
          "data": {
            "text/plain": [
              "                          count        mean         std     min       25%  \\\n",
              "Pregnancies               768.0    3.845052    3.369578   0.000   1.00000   \n",
              "Glucose                   768.0  120.894531   31.972618   0.000  99.00000   \n",
              "BloodPressure             768.0   69.105469   19.355807   0.000  62.00000   \n",
              "SkinThickness             768.0   20.536458   15.952218   0.000   0.00000   \n",
              "Insulin                   768.0   79.799479  115.244002   0.000   0.00000   \n",
              "BMI                       768.0   31.992578    7.884160   0.000  27.30000   \n",
              "DiabetesPedigreeFunction  768.0    0.471876    0.331329   0.078   0.24375   \n",
              "Age                       768.0   33.240885   11.760232  21.000  24.00000   \n",
              "Outcome                   768.0    0.348958    0.476951   0.000   0.00000   \n",
              "\n",
              "                               50%        75%     max  \n",
              "Pregnancies                 3.0000    6.00000   17.00  \n",
              "Glucose                   117.0000  140.25000  199.00  \n",
              "BloodPressure              72.0000   80.00000  122.00  \n",
              "SkinThickness              23.0000   32.00000   99.00  \n",
              "Insulin                    30.5000  127.25000  846.00  \n",
              "BMI                        32.0000   36.60000   67.10  \n",
              "DiabetesPedigreeFunction    0.3725    0.62625    2.42  \n",
              "Age                        29.0000   41.00000   81.00  \n",
              "Outcome                     0.0000    1.00000    1.00  "
            ],
            "text/html": [
              "\n",
              "  <div id=\"df-6594a935-b082-4fdb-9b88-f79960743dc0\">\n",
              "    <div class=\"colab-df-container\">\n",
              "      <div>\n",
              "<style scoped>\n",
              "    .dataframe tbody tr th:only-of-type {\n",
              "        vertical-align: middle;\n",
              "    }\n",
              "\n",
              "    .dataframe tbody tr th {\n",
              "        vertical-align: top;\n",
              "    }\n",
              "\n",
              "    .dataframe thead th {\n",
              "        text-align: right;\n",
              "    }\n",
              "</style>\n",
              "<table border=\"1\" class=\"dataframe\">\n",
              "  <thead>\n",
              "    <tr style=\"text-align: right;\">\n",
              "      <th></th>\n",
              "      <th>count</th>\n",
              "      <th>mean</th>\n",
              "      <th>std</th>\n",
              "      <th>min</th>\n",
              "      <th>25%</th>\n",
              "      <th>50%</th>\n",
              "      <th>75%</th>\n",
              "      <th>max</th>\n",
              "    </tr>\n",
              "  </thead>\n",
              "  <tbody>\n",
              "    <tr>\n",
              "      <th>Pregnancies</th>\n",
              "      <td>768.0</td>\n",
              "      <td>3.845052</td>\n",
              "      <td>3.369578</td>\n",
              "      <td>0.000</td>\n",
              "      <td>1.00000</td>\n",
              "      <td>3.0000</td>\n",
              "      <td>6.00000</td>\n",
              "      <td>17.00</td>\n",
              "    </tr>\n",
              "    <tr>\n",
              "      <th>Glucose</th>\n",
              "      <td>768.0</td>\n",
              "      <td>120.894531</td>\n",
              "      <td>31.972618</td>\n",
              "      <td>0.000</td>\n",
              "      <td>99.00000</td>\n",
              "      <td>117.0000</td>\n",
              "      <td>140.25000</td>\n",
              "      <td>199.00</td>\n",
              "    </tr>\n",
              "    <tr>\n",
              "      <th>BloodPressure</th>\n",
              "      <td>768.0</td>\n",
              "      <td>69.105469</td>\n",
              "      <td>19.355807</td>\n",
              "      <td>0.000</td>\n",
              "      <td>62.00000</td>\n",
              "      <td>72.0000</td>\n",
              "      <td>80.00000</td>\n",
              "      <td>122.00</td>\n",
              "    </tr>\n",
              "    <tr>\n",
              "      <th>SkinThickness</th>\n",
              "      <td>768.0</td>\n",
              "      <td>20.536458</td>\n",
              "      <td>15.952218</td>\n",
              "      <td>0.000</td>\n",
              "      <td>0.00000</td>\n",
              "      <td>23.0000</td>\n",
              "      <td>32.00000</td>\n",
              "      <td>99.00</td>\n",
              "    </tr>\n",
              "    <tr>\n",
              "      <th>Insulin</th>\n",
              "      <td>768.0</td>\n",
              "      <td>79.799479</td>\n",
              "      <td>115.244002</td>\n",
              "      <td>0.000</td>\n",
              "      <td>0.00000</td>\n",
              "      <td>30.5000</td>\n",
              "      <td>127.25000</td>\n",
              "      <td>846.00</td>\n",
              "    </tr>\n",
              "    <tr>\n",
              "      <th>BMI</th>\n",
              "      <td>768.0</td>\n",
              "      <td>31.992578</td>\n",
              "      <td>7.884160</td>\n",
              "      <td>0.000</td>\n",
              "      <td>27.30000</td>\n",
              "      <td>32.0000</td>\n",
              "      <td>36.60000</td>\n",
              "      <td>67.10</td>\n",
              "    </tr>\n",
              "    <tr>\n",
              "      <th>DiabetesPedigreeFunction</th>\n",
              "      <td>768.0</td>\n",
              "      <td>0.471876</td>\n",
              "      <td>0.331329</td>\n",
              "      <td>0.078</td>\n",
              "      <td>0.24375</td>\n",
              "      <td>0.3725</td>\n",
              "      <td>0.62625</td>\n",
              "      <td>2.42</td>\n",
              "    </tr>\n",
              "    <tr>\n",
              "      <th>Age</th>\n",
              "      <td>768.0</td>\n",
              "      <td>33.240885</td>\n",
              "      <td>11.760232</td>\n",
              "      <td>21.000</td>\n",
              "      <td>24.00000</td>\n",
              "      <td>29.0000</td>\n",
              "      <td>41.00000</td>\n",
              "      <td>81.00</td>\n",
              "    </tr>\n",
              "    <tr>\n",
              "      <th>Outcome</th>\n",
              "      <td>768.0</td>\n",
              "      <td>0.348958</td>\n",
              "      <td>0.476951</td>\n",
              "      <td>0.000</td>\n",
              "      <td>0.00000</td>\n",
              "      <td>0.0000</td>\n",
              "      <td>1.00000</td>\n",
              "      <td>1.00</td>\n",
              "    </tr>\n",
              "  </tbody>\n",
              "</table>\n",
              "</div>\n",
              "      <button class=\"colab-df-convert\" onclick=\"convertToInteractive('df-6594a935-b082-4fdb-9b88-f79960743dc0')\"\n",
              "              title=\"Convert this dataframe to an interactive table.\"\n",
              "              style=\"display:none;\">\n",
              "        \n",
              "  <svg xmlns=\"http://www.w3.org/2000/svg\" height=\"24px\"viewBox=\"0 0 24 24\"\n",
              "       width=\"24px\">\n",
              "    <path d=\"M0 0h24v24H0V0z\" fill=\"none\"/>\n",
              "    <path d=\"M18.56 5.44l.94 2.06.94-2.06 2.06-.94-2.06-.94-.94-2.06-.94 2.06-2.06.94zm-11 1L8.5 8.5l.94-2.06 2.06-.94-2.06-.94L8.5 2.5l-.94 2.06-2.06.94zm10 10l.94 2.06.94-2.06 2.06-.94-2.06-.94-.94-2.06-.94 2.06-2.06.94z\"/><path d=\"M17.41 7.96l-1.37-1.37c-.4-.4-.92-.59-1.43-.59-.52 0-1.04.2-1.43.59L10.3 9.45l-7.72 7.72c-.78.78-.78 2.05 0 2.83L4 21.41c.39.39.9.59 1.41.59.51 0 1.02-.2 1.41-.59l7.78-7.78 2.81-2.81c.8-.78.8-2.07 0-2.86zM5.41 20L4 18.59l7.72-7.72 1.47 1.35L5.41 20z\"/>\n",
              "  </svg>\n",
              "      </button>\n",
              "      \n",
              "  <style>\n",
              "    .colab-df-container {\n",
              "      display:flex;\n",
              "      flex-wrap:wrap;\n",
              "      gap: 12px;\n",
              "    }\n",
              "\n",
              "    .colab-df-convert {\n",
              "      background-color: #E8F0FE;\n",
              "      border: none;\n",
              "      border-radius: 50%;\n",
              "      cursor: pointer;\n",
              "      display: none;\n",
              "      fill: #1967D2;\n",
              "      height: 32px;\n",
              "      padding: 0 0 0 0;\n",
              "      width: 32px;\n",
              "    }\n",
              "\n",
              "    .colab-df-convert:hover {\n",
              "      background-color: #E2EBFA;\n",
              "      box-shadow: 0px 1px 2px rgba(60, 64, 67, 0.3), 0px 1px 3px 1px rgba(60, 64, 67, 0.15);\n",
              "      fill: #174EA6;\n",
              "    }\n",
              "\n",
              "    [theme=dark] .colab-df-convert {\n",
              "      background-color: #3B4455;\n",
              "      fill: #D2E3FC;\n",
              "    }\n",
              "\n",
              "    [theme=dark] .colab-df-convert:hover {\n",
              "      background-color: #434B5C;\n",
              "      box-shadow: 0px 1px 3px 1px rgba(0, 0, 0, 0.15);\n",
              "      filter: drop-shadow(0px 1px 2px rgba(0, 0, 0, 0.3));\n",
              "      fill: #FFFFFF;\n",
              "    }\n",
              "  </style>\n",
              "\n",
              "      <script>\n",
              "        const buttonEl =\n",
              "          document.querySelector('#df-6594a935-b082-4fdb-9b88-f79960743dc0 button.colab-df-convert');\n",
              "        buttonEl.style.display =\n",
              "          google.colab.kernel.accessAllowed ? 'block' : 'none';\n",
              "\n",
              "        async function convertToInteractive(key) {\n",
              "          const element = document.querySelector('#df-6594a935-b082-4fdb-9b88-f79960743dc0');\n",
              "          const dataTable =\n",
              "            await google.colab.kernel.invokeFunction('convertToInteractive',\n",
              "                                                     [key], {});\n",
              "          if (!dataTable) return;\n",
              "\n",
              "          const docLinkHtml = 'Like what you see? Visit the ' +\n",
              "            '<a target=\"_blank\" href=https://colab.research.google.com/notebooks/data_table.ipynb>data table notebook</a>'\n",
              "            + ' to learn more about interactive tables.';\n",
              "          element.innerHTML = '';\n",
              "          dataTable['output_type'] = 'display_data';\n",
              "          await google.colab.output.renderOutput(dataTable, element);\n",
              "          const docLink = document.createElement('div');\n",
              "          docLink.innerHTML = docLinkHtml;\n",
              "          element.appendChild(docLink);\n",
              "        }\n",
              "      </script>\n",
              "    </div>\n",
              "  </div>\n",
              "  "
            ]
          },
          "metadata": {},
          "execution_count": 5
        }
      ]
    },
    {
      "cell_type": "markdown",
      "source": [
        "**Handling Missing Value**"
      ],
      "metadata": {
        "id": "p5SRTuRuuUts"
      }
    },
    {
      "cell_type": "code",
      "source": [
        "# Memeriksa data null pada masing-masing kolom\n",
        "\n",
        "print(diabetes_data.shape)\n",
        "diabetes_data.isnull().sum()"
      ],
      "metadata": {
        "id": "khEDwaD2uXZD",
        "colab": {
          "base_uri": "https://localhost:8080/"
        },
        "outputId": "3455412d-215d-4fb1-e854-c10fa0934d53"
      },
      "execution_count": null,
      "outputs": [
        {
          "output_type": "stream",
          "name": "stdout",
          "text": [
            "(768, 9)\n"
          ]
        },
        {
          "output_type": "execute_result",
          "data": {
            "text/plain": [
              "Pregnancies                 0\n",
              "Glucose                     0\n",
              "BloodPressure               0\n",
              "SkinThickness               0\n",
              "Insulin                     0\n",
              "BMI                         0\n",
              "DiabetesPedigreeFunction    0\n",
              "Age                         0\n",
              "Outcome                     0\n",
              "dtype: int64"
            ]
          },
          "metadata": {},
          "execution_count": 6
        }
      ]
    },
    {
      "cell_type": "markdown",
      "source": [
        "**Cek Duplikasi Data**"
      ],
      "metadata": {
        "id": "LiJ2eEb4vnEf"
      }
    },
    {
      "cell_type": "code",
      "source": [
        "print('Data Duplicate :', diabetes_data.duplicated().sum())\n",
        "diabetes_data[diabetes_data.duplicated()]"
      ],
      "metadata": {
        "id": "QbsfWazWvmHv",
        "colab": {
          "base_uri": "https://localhost:8080/",
          "height": 67
        },
        "outputId": "e565bd8f-d4cd-4ffa-b01a-49c0ded146ea"
      },
      "execution_count": null,
      "outputs": [
        {
          "output_type": "stream",
          "name": "stdout",
          "text": [
            "Data Duplicate : 0\n"
          ]
        },
        {
          "output_type": "execute_result",
          "data": {
            "text/plain": [
              "Empty DataFrame\n",
              "Columns: [Pregnancies, Glucose, BloodPressure, SkinThickness, Insulin, BMI, DiabetesPedigreeFunction, Age, Outcome]\n",
              "Index: []"
            ],
            "text/html": [
              "\n",
              "  <div id=\"df-66f812ac-e6d7-410a-9947-f4d9bc675768\">\n",
              "    <div class=\"colab-df-container\">\n",
              "      <div>\n",
              "<style scoped>\n",
              "    .dataframe tbody tr th:only-of-type {\n",
              "        vertical-align: middle;\n",
              "    }\n",
              "\n",
              "    .dataframe tbody tr th {\n",
              "        vertical-align: top;\n",
              "    }\n",
              "\n",
              "    .dataframe thead th {\n",
              "        text-align: right;\n",
              "    }\n",
              "</style>\n",
              "<table border=\"1\" class=\"dataframe\">\n",
              "  <thead>\n",
              "    <tr style=\"text-align: right;\">\n",
              "      <th></th>\n",
              "      <th>Pregnancies</th>\n",
              "      <th>Glucose</th>\n",
              "      <th>BloodPressure</th>\n",
              "      <th>SkinThickness</th>\n",
              "      <th>Insulin</th>\n",
              "      <th>BMI</th>\n",
              "      <th>DiabetesPedigreeFunction</th>\n",
              "      <th>Age</th>\n",
              "      <th>Outcome</th>\n",
              "    </tr>\n",
              "  </thead>\n",
              "  <tbody>\n",
              "  </tbody>\n",
              "</table>\n",
              "</div>\n",
              "      <button class=\"colab-df-convert\" onclick=\"convertToInteractive('df-66f812ac-e6d7-410a-9947-f4d9bc675768')\"\n",
              "              title=\"Convert this dataframe to an interactive table.\"\n",
              "              style=\"display:none;\">\n",
              "        \n",
              "  <svg xmlns=\"http://www.w3.org/2000/svg\" height=\"24px\"viewBox=\"0 0 24 24\"\n",
              "       width=\"24px\">\n",
              "    <path d=\"M0 0h24v24H0V0z\" fill=\"none\"/>\n",
              "    <path d=\"M18.56 5.44l.94 2.06.94-2.06 2.06-.94-2.06-.94-.94-2.06-.94 2.06-2.06.94zm-11 1L8.5 8.5l.94-2.06 2.06-.94-2.06-.94L8.5 2.5l-.94 2.06-2.06.94zm10 10l.94 2.06.94-2.06 2.06-.94-2.06-.94-.94-2.06-.94 2.06-2.06.94z\"/><path d=\"M17.41 7.96l-1.37-1.37c-.4-.4-.92-.59-1.43-.59-.52 0-1.04.2-1.43.59L10.3 9.45l-7.72 7.72c-.78.78-.78 2.05 0 2.83L4 21.41c.39.39.9.59 1.41.59.51 0 1.02-.2 1.41-.59l7.78-7.78 2.81-2.81c.8-.78.8-2.07 0-2.86zM5.41 20L4 18.59l7.72-7.72 1.47 1.35L5.41 20z\"/>\n",
              "  </svg>\n",
              "      </button>\n",
              "      \n",
              "  <style>\n",
              "    .colab-df-container {\n",
              "      display:flex;\n",
              "      flex-wrap:wrap;\n",
              "      gap: 12px;\n",
              "    }\n",
              "\n",
              "    .colab-df-convert {\n",
              "      background-color: #E8F0FE;\n",
              "      border: none;\n",
              "      border-radius: 50%;\n",
              "      cursor: pointer;\n",
              "      display: none;\n",
              "      fill: #1967D2;\n",
              "      height: 32px;\n",
              "      padding: 0 0 0 0;\n",
              "      width: 32px;\n",
              "    }\n",
              "\n",
              "    .colab-df-convert:hover {\n",
              "      background-color: #E2EBFA;\n",
              "      box-shadow: 0px 1px 2px rgba(60, 64, 67, 0.3), 0px 1px 3px 1px rgba(60, 64, 67, 0.15);\n",
              "      fill: #174EA6;\n",
              "    }\n",
              "\n",
              "    [theme=dark] .colab-df-convert {\n",
              "      background-color: #3B4455;\n",
              "      fill: #D2E3FC;\n",
              "    }\n",
              "\n",
              "    [theme=dark] .colab-df-convert:hover {\n",
              "      background-color: #434B5C;\n",
              "      box-shadow: 0px 1px 3px 1px rgba(0, 0, 0, 0.15);\n",
              "      filter: drop-shadow(0px 1px 2px rgba(0, 0, 0, 0.3));\n",
              "      fill: #FFFFFF;\n",
              "    }\n",
              "  </style>\n",
              "\n",
              "      <script>\n",
              "        const buttonEl =\n",
              "          document.querySelector('#df-66f812ac-e6d7-410a-9947-f4d9bc675768 button.colab-df-convert');\n",
              "        buttonEl.style.display =\n",
              "          google.colab.kernel.accessAllowed ? 'block' : 'none';\n",
              "\n",
              "        async function convertToInteractive(key) {\n",
              "          const element = document.querySelector('#df-66f812ac-e6d7-410a-9947-f4d9bc675768');\n",
              "          const dataTable =\n",
              "            await google.colab.kernel.invokeFunction('convertToInteractive',\n",
              "                                                     [key], {});\n",
              "          if (!dataTable) return;\n",
              "\n",
              "          const docLinkHtml = 'Like what you see? Visit the ' +\n",
              "            '<a target=\"_blank\" href=https://colab.research.google.com/notebooks/data_table.ipynb>data table notebook</a>'\n",
              "            + ' to learn more about interactive tables.';\n",
              "          element.innerHTML = '';\n",
              "          dataTable['output_type'] = 'display_data';\n",
              "          await google.colab.output.renderOutput(dataTable, element);\n",
              "          const docLink = document.createElement('div');\n",
              "          docLink.innerHTML = docLinkHtml;\n",
              "          element.appendChild(docLink);\n",
              "        }\n",
              "      </script>\n",
              "    </div>\n",
              "  </div>\n",
              "  "
            ]
          },
          "metadata": {},
          "execution_count": 7
        }
      ]
    },
    {
      "cell_type": "markdown",
      "source": [
        "**Feature Encoding**"
      ],
      "metadata": {
        "id": "PN7wHNLEv883"
      }
    },
    {
      "cell_type": "code",
      "source": [
        "# Mengubah feature kategorik menjadi numerik\n",
        "\n",
        "diabetes_data_encode = diabetes_data.copy()"
      ],
      "metadata": {
        "id": "scIJtCtEwG8b"
      },
      "execution_count": null,
      "outputs": []
    },
    {
      "cell_type": "markdown",
      "source": [
        "**Handling Outliers**"
      ],
      "metadata": {
        "id": "X0ytxAh0w8jp"
      }
    },
    {
      "cell_type": "code",
      "source": [
        "# Outliers adalah nilai yang menyimpang pada dataset\n",
        "\n",
        "diabetes_data.copy = diabetes_data_encode.copy()"
      ],
      "metadata": {
        "id": "0l4OmSBgw7fL"
      },
      "execution_count": null,
      "outputs": []
    },
    {
      "cell_type": "code",
      "source": [
        "plt.figure(figsize=(8,6))\n",
        "sns.boxplot(x=diabetes_data.copy['Age'])"
      ],
      "metadata": {
        "id": "RxWE6J6fyUIG",
        "colab": {
          "base_uri": "https://localhost:8080/",
          "height": 406
        },
        "outputId": "f43c9e43-2802-4372-bcfd-edb3861e2142"
      },
      "execution_count": null,
      "outputs": [
        {
          "output_type": "execute_result",
          "data": {
            "text/plain": [
              "<matplotlib.axes._subplots.AxesSubplot at 0x7fbe6ef12d50>"
            ]
          },
          "metadata": {},
          "execution_count": 10
        },
        {
          "output_type": "display_data",
          "data": {
            "text/plain": [
              "<Figure size 576x432 with 1 Axes>"
            ],
            "image/png": "[encoded data removed]"
          },
          "metadata": {
            "needs_background": "light"
          }
        }
      ]
    },
    {
      "cell_type": "code",
      "source": [
        "# outlier akan ditangani dengan pendekatan interquartile dan mean value. \n",
        "# Pertama, data point yang lebih besar dari cutoff, dianggap outlier.\n",
        "# cutoff ditentukan dengan rumus Q1 + 1.5 * IQR\n",
        "# Karena dataset kecil, data outlier tidak akan dihapus, namun akan diganti dengan nilai mean dari non outlier.\n",
        "\n",
        "Q1 = diabetes_data.copy['Age'].quantile(0.25)\n",
        "Q3 = diabetes_data.copy['Age'].quantile(0.75)\n",
        "\n",
        "IQR = Q3 - Q1\n",
        "\n",
        "diabetes_data.copy['Age'] = diabetes_data.copy['Age'].mask(((diabetes_data.copy['Age'] > (Q3+(1.5*IQR)))), (Q3+(1.5*IQR)))\n",
        "diabetes_data.copy.head()"
      ],
      "metadata": {
        "id": "AWbFU0qAyy89",
        "colab": {
          "base_uri": "https://localhost:8080/",
          "height": 206
        },
        "outputId": "e8760f59-82e6-473e-ae48-8a61f0af12a1"
      },
      "execution_count": null,
      "outputs": [
        {
          "output_type": "execute_result",
          "data": {
            "text/plain": [
              "   Pregnancies  Glucose  BloodPressure  SkinThickness  Insulin   BMI  \\\n",
              "0            6      148             72             35        0  33.6   \n",
              "1            1       85             66             29        0  26.6   \n",
              "2            8      183             64              0        0  23.3   \n",
              "3            1       89             66             23       94  28.1   \n",
              "4            0      137             40             35      168  43.1   \n",
              "\n",
              "   DiabetesPedigreeFunction   Age  Outcome  \n",
              "0                     0.627  50.0        1  \n",
              "1                     0.351  31.0        0  \n",
              "2                     0.672  32.0        1  \n",
              "3                     0.167  21.0        0  \n",
              "4                     2.288  33.0        1  "
            ],
            "text/html": [
              "\n",
              "  <div id=\"df-ca2b0376-e5da-4f6d-b6b9-17ba055a9a76\">\n",
              "    <div class=\"colab-df-container\">\n",
              "      <div>\n",
              "<style scoped>\n",
              "    .dataframe tbody tr th:only-of-type {\n",
              "        vertical-align: middle;\n",
              "    }\n",
              "\n",
              "    .dataframe tbody tr th {\n",
              "        vertical-align: top;\n",
              "    }\n",
              "\n",
              "    .dataframe thead th {\n",
              "        text-align: right;\n",
              "    }\n",
              "</style>\n",
              "<table border=\"1\" class=\"dataframe\">\n",
              "  <thead>\n",
              "    <tr style=\"text-align: right;\">\n",
              "      <th></th>\n",
              "      <th>Pregnancies</th>\n",
              "      <th>Glucose</th>\n",
              "      <th>BloodPressure</th>\n",
              "      <th>SkinThickness</th>\n",
              "      <th>Insulin</th>\n",
              "      <th>BMI</th>\n",
              "      <th>DiabetesPedigreeFunction</th>\n",
              "      <th>Age</th>\n",
              "      <th>Outcome</th>\n",
              "    </tr>\n",
              "  </thead>\n",
              "  <tbody>\n",
              "    <tr>\n",
              "      <th>0</th>\n",
              "      <td>6</td>\n",
              "      <td>148</td>\n",
              "      <td>72</td>\n",
              "      <td>35</td>\n",
              "      <td>0</td>\n",
              "      <td>33.6</td>\n",
              "      <td>0.627</td>\n",
              "      <td>50.0</td>\n",
              "      <td>1</td>\n",
              "    </tr>\n",
              "    <tr>\n",
              "      <th>1</th>\n",
              "      <td>1</td>\n",
              "      <td>85</td>\n",
              "      <td>66</td>\n",
              "      <td>29</td>\n",
              "      <td>0</td>\n",
              "      <td>26.6</td>\n",
              "      <td>0.351</td>\n",
              "      <td>31.0</td>\n",
              "      <td>0</td>\n",
              "    </tr>\n",
              "    <tr>\n",
              "      <th>2</th>\n",
              "      <td>8</td>\n",
              "      <td>183</td>\n",
              "      <td>64</td>\n",
              "      <td>0</td>\n",
              "      <td>0</td>\n",
              "      <td>23.3</td>\n",
              "      <td>0.672</td>\n",
              "      <td>32.0</td>\n",
              "      <td>1</td>\n",
              "    </tr>\n",
              "    <tr>\n",
              "      <th>3</th>\n",
              "      <td>1</td>\n",
              "      <td>89</td>\n",
              "      <td>66</td>\n",
              "      <td>23</td>\n",
              "      <td>94</td>\n",
              "      <td>28.1</td>\n",
              "      <td>0.167</td>\n",
              "      <td>21.0</td>\n",
              "      <td>0</td>\n",
              "    </tr>\n",
              "    <tr>\n",
              "      <th>4</th>\n",
              "      <td>0</td>\n",
              "      <td>137</td>\n",
              "      <td>40</td>\n",
              "      <td>35</td>\n",
              "      <td>168</td>\n",
              "      <td>43.1</td>\n",
              "      <td>2.288</td>\n",
              "      <td>33.0</td>\n",
              "      <td>1</td>\n",
              "    </tr>\n",
              "  </tbody>\n",
              "</table>\n",
              "</div>\n",
              "      <button class=\"colab-df-convert\" onclick=\"convertToInteractive('df-ca2b0376-e5da-4f6d-b6b9-17ba055a9a76')\"\n",
              "              title=\"Convert this dataframe to an interactive table.\"\n",
              "              style=\"display:none;\">\n",
              "        \n",
              "  <svg xmlns=\"http://www.w3.org/2000/svg\" height=\"24px\"viewBox=\"0 0 24 24\"\n",
              "       width=\"24px\">\n",
              "    <path d=\"M0 0h24v24H0V0z\" fill=\"none\"/>\n",
              "    <path d=\"M18.56 5.44l.94 2.06.94-2.06 2.06-.94-2.06-.94-.94-2.06-.94 2.06-2.06.94zm-11 1L8.5 8.5l.94-2.06 2.06-.94-2.06-.94L8.5 2.5l-.94 2.06-2.06.94zm10 10l.94 2.06.94-2.06 2.06-.94-2.06-.94-.94-2.06-.94 2.06-2.06.94z\"/><path d=\"M17.41 7.96l-1.37-1.37c-.4-.4-.92-.59-1.43-.59-.52 0-1.04.2-1.43.59L10.3 9.45l-7.72 7.72c-.78.78-.78 2.05 0 2.83L4 21.41c.39.39.9.59 1.41.59.51 0 1.02-.2 1.41-.59l7.78-7.78 2.81-2.81c.8-.78.8-2.07 0-2.86zM5.41 20L4 18.59l7.72-7.72 1.47 1.35L5.41 20z\"/>\n",
              "  </svg>\n",
              "      </button>\n",
              "      \n",
              "  <style>\n",
              "    .colab-df-container {\n",
              "      display:flex;\n",
              "      flex-wrap:wrap;\n",
              "      gap: 12px;\n",
              "    }\n",
              "\n",
              "    .colab-df-convert {\n",
              "      background-color: #E8F0FE;\n",
              "      border: none;\n",
              "      border-radius: 50%;\n",
              "      cursor: pointer;\n",
              "      display: none;\n",
              "      fill: #1967D2;\n",
              "      height: 32px;\n",
              "      padding: 0 0 0 0;\n",
              "      width: 32px;\n",
              "    }\n",
              "\n",
              "    .colab-df-convert:hover {\n",
              "      background-color: #E2EBFA;\n",
              "      box-shadow: 0px 1px 2px rgba(60, 64, 67, 0.3), 0px 1px 3px 1px rgba(60, 64, 67, 0.15);\n",
              "      fill: #174EA6;\n",
              "    }\n",
              "\n",
              "    [theme=dark] .colab-df-convert {\n",
              "      background-color: #3B4455;\n",
              "      fill: #D2E3FC;\n",
              "    }\n",
              "\n",
              "    [theme=dark] .colab-df-convert:hover {\n",
              "      background-color: #434B5C;\n",
              "      box-shadow: 0px 1px 3px 1px rgba(0, 0, 0, 0.15);\n",
              "      filter: drop-shadow(0px 1px 2px rgba(0, 0, 0, 0.3));\n",
              "      fill: #FFFFFF;\n",
              "    }\n",
              "  </style>\n",
              "\n",
              "      <script>\n",
              "        const buttonEl =\n",
              "          document.querySelector('#df-ca2b0376-e5da-4f6d-b6b9-17ba055a9a76 button.colab-df-convert');\n",
              "        buttonEl.style.display =\n",
              "          google.colab.kernel.accessAllowed ? 'block' : 'none';\n",
              "\n",
              "        async function convertToInteractive(key) {\n",
              "          const element = document.querySelector('#df-ca2b0376-e5da-4f6d-b6b9-17ba055a9a76');\n",
              "          const dataTable =\n",
              "            await google.colab.kernel.invokeFunction('convertToInteractive',\n",
              "                                                     [key], {});\n",
              "          if (!dataTable) return;\n",
              "\n",
              "          const docLinkHtml = 'Like what you see? Visit the ' +\n",
              "            '<a target=\"_blank\" href=https://colab.research.google.com/notebooks/data_table.ipynb>data table notebook</a>'\n",
              "            + ' to learn more about interactive tables.';\n",
              "          element.innerHTML = '';\n",
              "          dataTable['output_type'] = 'display_data';\n",
              "          await google.colab.output.renderOutput(dataTable, element);\n",
              "          const docLink = document.createElement('div');\n",
              "          docLink.innerHTML = docLinkHtml;\n",
              "          element.appendChild(docLink);\n",
              "        }\n",
              "      </script>\n",
              "    </div>\n",
              "  </div>\n",
              "  "
            ]
          },
          "metadata": {},
          "execution_count": 11
        }
      ]
    },
    {
      "cell_type": "code",
      "source": [
        "# Periksa Outliers Yang Sudah Dibersihkan\n",
        "plt.figure(figsize=(8,6))\n",
        "sns.boxplot(x=diabetes_data.copy['Age'])"
      ],
      "metadata": {
        "id": "1u2fHaMC2p9r",
        "colab": {
          "base_uri": "https://localhost:8080/",
          "height": 406
        },
        "outputId": "ba8f58c6-18bc-4ac6-a7b4-6d9e5acd5fee"
      },
      "execution_count": null,
      "outputs": [
        {
          "output_type": "execute_result",
          "data": {
            "text/plain": [
              "<matplotlib.axes._subplots.AxesSubplot at 0x7fbe6ee756d0>"
            ]
          },
          "metadata": {},
          "execution_count": 12
        },
        {
          "output_type": "display_data",
          "data": {
            "text/plain": [
              "<Figure size 576x432 with 1 Axes>"
            ],
            "image/png": "[encoded data removed]"
          },
          "metadata": {
            "needs_background": "light"
          }
        }
      ]
    },
    {
      "cell_type": "markdown",
      "source": [
        "**Split Data**\n",
        "\n",
        "Data dibagi dalam set data train dan data tes, dengan proporsi yang dapat ditentukan sesuai kebutuhan"
      ],
      "metadata": {
        "id": "KDSnc6HT3Q0S"
      }
    },
    {
      "cell_type": "code",
      "source": [
        "from sklearn.preprocessing import StandardScaler, MinMaxScaler\n",
        "\n",
        "X = diabetes_data_encode.drop(columns=['Pregnancies'])\n",
        "Y = diabetes_data_encode['Pregnancies']\n",
        "\n",
        "X_train, X_test, Y_train, Y_test = train_test_split(X, Y, test_size = 0.2, random_state = 100)"
      ],
      "metadata": {
        "id": "z2LFjQGA5vx7"
      },
      "execution_count": null,
      "outputs": []
    },
    {
      "cell_type": "markdown",
      "source": [
        "**Feature Scalling**\n",
        "\n",
        "Transformasi nilai dari data menjadi skala tertentu"
      ],
      "metadata": {
        "id": "cjuI3pDb5eHP"
      }
    },
    {
      "cell_type": "code",
      "source": [
        "# Normalisasi hanya di data training\n",
        "\n",
        "scaler = MinMaxScaler()\n",
        "columns = list(X_train.columns)\n",
        "scaler.fit(X_train[columns])\n",
        "\n",
        "X_train_scaled = scaler.transform(X_train)\n",
        "X_test_scaled = scaler.transform(X_test)\n",
        "\n",
        "X_check = X_train\n",
        "X_check\n",
        "\n",
        "X_train[columns] = X_train_scaled\n",
        "X_test[columns] = X_test_scaled"
      ],
      "metadata": {
        "id": "efxtBSTd7rHf"
      },
      "execution_count": null,
      "outputs": []
    },
    {
      "cell_type": "code",
      "source": [
        "X_train.head()"
      ],
      "metadata": {
        "id": "9eF-vbL_CH_-",
        "colab": {
          "base_uri": "https://localhost:8080/",
          "height": 206
        },
        "outputId": "7bc7aff6-6543-41a4-d13c-47c6b38d556b"
      },
      "execution_count": null,
      "outputs": [
        {
          "output_type": "execute_result",
          "data": {
            "text/plain": [
              "      Glucose  BloodPressure  SkinThickness   Insulin       BMI  \\\n",
              "660  0.814070       0.736842       0.000000  0.000000  0.412817   \n",
              "69   0.733668       0.745614       0.272727  0.118203  0.430700   \n",
              "85   0.552764       0.649123       0.292929  0.147754  0.482861   \n",
              "219  0.562814       0.578947       0.000000  0.000000  0.563338   \n",
              "712  0.648241       0.543860       0.363636  0.000000  0.614009   \n",
              "\n",
              "     DiabetesPedigreeFunction       Age  Outcome  \n",
              "660                  0.044406  0.647059      0.0  \n",
              "69                   0.047395  0.117647      0.0  \n",
              "85                   0.264731  0.117647      0.0  \n",
              "219                  0.078138  0.392157      1.0  \n",
              "712                  0.154996  0.333333      1.0  "
            ],
            "text/html": [
              "\n",
              "  <div id=\"df-47f138b3-03c2-49b6-808d-4038775432e9\">\n",
              "    <div class=\"colab-df-container\">\n",
              "      <div>\n",
              "<style scoped>\n",
              "    .dataframe tbody tr th:only-of-type {\n",
              "        vertical-align: middle;\n",
              "    }\n",
              "\n",
              "    .dataframe tbody tr th {\n",
              "        vertical-align: top;\n",
              "    }\n",
              "\n",
              "    .dataframe thead th {\n",
              "        text-align: right;\n",
              "    }\n",
              "</style>\n",
              "<table border=\"1\" class=\"dataframe\">\n",
              "  <thead>\n",
              "    <tr style=\"text-align: right;\">\n",
              "      <th></th>\n",
              "      <th>Glucose</th>\n",
              "      <th>BloodPressure</th>\n",
              "      <th>SkinThickness</th>\n",
              "      <th>Insulin</th>\n",
              "      <th>BMI</th>\n",
              "      <th>DiabetesPedigreeFunction</th>\n",
              "      <th>Age</th>\n",
              "      <th>Outcome</th>\n",
              "    </tr>\n",
              "  </thead>\n",
              "  <tbody>\n",
              "    <tr>\n",
              "      <th>660</th>\n",
              "      <td>0.814070</td>\n",
              "      <td>0.736842</td>\n",
              "      <td>0.000000</td>\n",
              "      <td>0.000000</td>\n",
              "      <td>0.412817</td>\n",
              "      <td>0.044406</td>\n",
              "      <td>0.647059</td>\n",
              "      <td>0.0</td>\n",
              "    </tr>\n",
              "    <tr>\n",
              "      <th>69</th>\n",
              "      <td>0.733668</td>\n",
              "      <td>0.745614</td>\n",
              "      <td>0.272727</td>\n",
              "      <td>0.118203</td>\n",
              "      <td>0.430700</td>\n",
              "      <td>0.047395</td>\n",
              "      <td>0.117647</td>\n",
              "      <td>0.0</td>\n",
              "    </tr>\n",
              "    <tr>\n",
              "      <th>85</th>\n",
              "      <td>0.552764</td>\n",
              "      <td>0.649123</td>\n",
              "      <td>0.292929</td>\n",
              "      <td>0.147754</td>\n",
              "      <td>0.482861</td>\n",
              "      <td>0.264731</td>\n",
              "      <td>0.117647</td>\n",
              "      <td>0.0</td>\n",
              "    </tr>\n",
              "    <tr>\n",
              "      <th>219</th>\n",
              "      <td>0.562814</td>\n",
              "      <td>0.578947</td>\n",
              "      <td>0.000000</td>\n",
              "      <td>0.000000</td>\n",
              "      <td>0.563338</td>\n",
              "      <td>0.078138</td>\n",
              "      <td>0.392157</td>\n",
              "      <td>1.0</td>\n",
              "    </tr>\n",
              "    <tr>\n",
              "      <th>712</th>\n",
              "      <td>0.648241</td>\n",
              "      <td>0.543860</td>\n",
              "      <td>0.363636</td>\n",
              "      <td>0.000000</td>\n",
              "      <td>0.614009</td>\n",
              "      <td>0.154996</td>\n",
              "      <td>0.333333</td>\n",
              "      <td>1.0</td>\n",
              "    </tr>\n",
              "  </tbody>\n",
              "</table>\n",
              "</div>\n",
              "      <button class=\"colab-df-convert\" onclick=\"convertToInteractive('df-47f138b3-03c2-49b6-808d-4038775432e9')\"\n",
              "              title=\"Convert this dataframe to an interactive table.\"\n",
              "              style=\"display:none;\">\n",
              "        \n",
              "  <svg xmlns=\"http://www.w3.org/2000/svg\" height=\"24px\"viewBox=\"0 0 24 24\"\n",
              "       width=\"24px\">\n",
              "    <path d=\"M0 0h24v24H0V0z\" fill=\"none\"/>\n",
              "    <path d=\"M18.56 5.44l.94 2.06.94-2.06 2.06-.94-2.06-.94-.94-2.06-.94 2.06-2.06.94zm-11 1L8.5 8.5l.94-2.06 2.06-.94-2.06-.94L8.5 2.5l-.94 2.06-2.06.94zm10 10l.94 2.06.94-2.06 2.06-.94-2.06-.94-.94-2.06-.94 2.06-2.06.94z\"/><path d=\"M17.41 7.96l-1.37-1.37c-.4-.4-.92-.59-1.43-.59-.52 0-1.04.2-1.43.59L10.3 9.45l-7.72 7.72c-.78.78-.78 2.05 0 2.83L4 21.41c.39.39.9.59 1.41.59.51 0 1.02-.2 1.41-.59l7.78-7.78 2.81-2.81c.8-.78.8-2.07 0-2.86zM5.41 20L4 18.59l7.72-7.72 1.47 1.35L5.41 20z\"/>\n",
              "  </svg>\n",
              "      </button>\n",
              "      \n",
              "  <style>\n",
              "    .colab-df-container {\n",
              "      display:flex;\n",
              "      flex-wrap:wrap;\n",
              "      gap: 12px;\n",
              "    }\n",
              "\n",
              "    .colab-df-convert {\n",
              "      background-color: #E8F0FE;\n",
              "      border: none;\n",
              "      border-radius: 50%;\n",
              "      cursor: pointer;\n",
              "      display: none;\n",
              "      fill: #1967D2;\n",
              "      height: 32px;\n",
              "      padding: 0 0 0 0;\n",
              "      width: 32px;\n",
              "    }\n",
              "\n",
              "    .colab-df-convert:hover {\n",
              "      background-color: #E2EBFA;\n",
              "      box-shadow: 0px 1px 2px rgba(60, 64, 67, 0.3), 0px 1px 3px 1px rgba(60, 64, 67, 0.15);\n",
              "      fill: #174EA6;\n",
              "    }\n",
              "\n",
              "    [theme=dark] .colab-df-convert {\n",
              "      background-color: #3B4455;\n",
              "      fill: #D2E3FC;\n",
              "    }\n",
              "\n",
              "    [theme=dark] .colab-df-convert:hover {\n",
              "      background-color: #434B5C;\n",
              "      box-shadow: 0px 1px 3px 1px rgba(0, 0, 0, 0.15);\n",
              "      filter: drop-shadow(0px 1px 2px rgba(0, 0, 0, 0.3));\n",
              "      fill: #FFFFFF;\n",
              "    }\n",
              "  </style>\n",
              "\n",
              "      <script>\n",
              "        const buttonEl =\n",
              "          document.querySelector('#df-47f138b3-03c2-49b6-808d-4038775432e9 button.colab-df-convert');\n",
              "        buttonEl.style.display =\n",
              "          google.colab.kernel.accessAllowed ? 'block' : 'none';\n",
              "\n",
              "        async function convertToInteractive(key) {\n",
              "          const element = document.querySelector('#df-47f138b3-03c2-49b6-808d-4038775432e9');\n",
              "          const dataTable =\n",
              "            await google.colab.kernel.invokeFunction('convertToInteractive',\n",
              "                                                     [key], {});\n",
              "          if (!dataTable) return;\n",
              "\n",
              "          const docLinkHtml = 'Like what you see? Visit the ' +\n",
              "            '<a target=\"_blank\" href=https://colab.research.google.com/notebooks/data_table.ipynb>data table notebook</a>'\n",
              "            + ' to learn more about interactive tables.';\n",
              "          element.innerHTML = '';\n",
              "          dataTable['output_type'] = 'display_data';\n",
              "          await google.colab.output.renderOutput(dataTable, element);\n",
              "          const docLink = document.createElement('div');\n",
              "          docLink.innerHTML = docLinkHtml;\n",
              "          element.appendChild(docLink);\n",
              "        }\n",
              "      </script>\n",
              "    </div>\n",
              "  </div>\n",
              "  "
            ]
          },
          "metadata": {},
          "execution_count": 89
        }
      ]
    },
    {
      "cell_type": "code",
      "source": [
        "plt.figure(figsize=(10,8))\n",
        "plt.subplot(1,2,1)\n",
        "plt.title('Before')\n",
        "sns.distplot(X_train['Age'])\n",
        "\n",
        "plt.figure(figsize=(10,8))\n",
        "plt.subplot(1,2,2)\n",
        "plt.title('After')\n",
        "sns.distplot(X_check['Age'])"
      ],
      "metadata": {
        "id": "cQxomzwQDeFA",
        "colab": {
          "base_uri": "https://localhost:8080/",
          "height": 1000
        },
        "outputId": "e6d02129-d380-4b13-97e7-534632559828"
      },
      "execution_count": null,
      "outputs": [
        {
          "output_type": "stream",
          "name": "stderr",
          "text": [
            "/usr/local/lib/python3.7/dist-packages/seaborn/distributions.py:2619: FutureWarning: `distplot` is a deprecated function and will be removed in a future version. Please adapt your code to use either `displot` (a figure-level function with similar flexibility) or `histplot` (an axes-level function for histograms).\n",
            "  warnings.warn(msg, FutureWarning)\n",
            "/usr/local/lib/python3.7/dist-packages/seaborn/distributions.py:2619: FutureWarning: `distplot` is a deprecated function and will be removed in a future version. Please adapt your code to use either `displot` (a figure-level function with similar flexibility) or `histplot` (an axes-level function for histograms).\n",
            "  warnings.warn(msg, FutureWarning)\n"
          ]
        },
        {
          "output_type": "execute_result",
          "data": {
            "text/plain": [
              "<matplotlib.axes._subplots.AxesSubplot at 0x7fbe6e7b6d90>"
            ]
          },
          "metadata": {},
          "execution_count": 16
        },
        {
          "output_type": "display_data",
          "data": {
            "text/plain": [
              "<Figure size 720x576 with 1 Axes>"
            ],
            "image/png": "[encoded data removed]"
          },
          "metadata": {
            "needs_background": "light"
          }
        },
        {
          "output_type": "display_data",
          "data": {
            "text/plain": [
              "<Figure size 720x576 with 1 Axes>"
            ],
            "image/png": "[encoded data removed]"
          },
          "metadata": {
            "needs_background": "light"
          }
        }
      ]
    },
    {
      "cell_type": "markdown",
      "source": [
        "# **Dataset  Wine**"
      ],
      "metadata": {
        "id": "dd92CFW34RQD"
      }
    },
    {
      "cell_type": "code",
      "source": [
        "wine_data = load_wine()\n",
        "wine = pd.DataFrame(wine_data.data)\n",
        "wine\n",
        "wine.info()"
      ],
      "metadata": {
        "id": "nNFyCWpY8XPK",
        "colab": {
          "base_uri": "https://localhost:8080/"
        },
        "outputId": "e0c52ef7-b2d0-48fd-cb33-7b0cb6fc70d6"
      },
      "execution_count": null,
      "outputs": [
        {
          "output_type": "stream",
          "name": "stdout",
          "text": [
            "<class 'pandas.core.frame.DataFrame'>\n",
            "RangeIndex: 178 entries, 0 to 177\n",
            "Data columns (total 13 columns):\n",
            " #   Column  Non-Null Count  Dtype  \n",
            "---  ------  --------------  -----  \n",
            " 0   0       178 non-null    float64\n",
            " 1   1       178 non-null    float64\n",
            " 2   2       178 non-null    float64\n",
            " 3   3       178 non-null    float64\n",
            " 4   4       178 non-null    float64\n",
            " 5   5       178 non-null    float64\n",
            " 6   6       178 non-null    float64\n",
            " 7   7       178 non-null    float64\n",
            " 8   8       178 non-null    float64\n",
            " 9   9       178 non-null    float64\n",
            " 10  10      178 non-null    float64\n",
            " 11  11      178 non-null    float64\n",
            " 12  12      178 non-null    float64\n",
            "dtypes: float64(13)\n",
            "memory usage: 18.2 KB\n"
          ]
        }
      ]
    },
    {
      "cell_type": "code",
      "source": [
        "print(\"Features Name : \", wine_data.feature_names)\n",
        "print(\"Shape: \", wine.shape)\n",
        "print(\"Dataset :\\n\", wine.head())"
      ],
      "metadata": {
        "id": "3tsL5YPMenjQ",
        "colab": {
          "base_uri": "https://localhost:8080/"
        },
        "outputId": "0a73894e-9ff0-43aa-ce8d-34f061679b01"
      },
      "execution_count": null,
      "outputs": [
        {
          "output_type": "stream",
          "name": "stdout",
          "text": [
            "Features Name :  ['alcohol', 'malic_acid', 'ash', 'alcalinity_of_ash', 'magnesium', 'total_phenols', 'flavanoids', 'nonflavanoid_phenols', 'proanthocyanins', 'color_intensity', 'hue', 'od280/od315_of_diluted_wines', 'proline']\n",
            "Shape:  (178, 13)\n",
            "Dataset :\n",
            "       0     1     2     3      4     5     6     7     8     9     10    11  \\\n",
            "0  14.23  1.71  2.43  15.6  127.0  2.80  3.06  0.28  2.29  5.64  1.04  3.92   \n",
            "1  13.20  1.78  2.14  11.2  100.0  2.65  2.76  0.26  1.28  4.38  1.05  3.40   \n",
            "2  13.16  2.36  2.67  18.6  101.0  2.80  3.24  0.30  2.81  5.68  1.03  3.17   \n",
            "3  14.37  1.95  2.50  16.8  113.0  3.85  3.49  0.24  2.18  7.80  0.86  3.45   \n",
            "4  13.24  2.59  2.87  21.0  118.0  2.80  2.69  0.39  1.82  4.32  1.04  2.93   \n",
            "\n",
            "       12  \n",
            "0  1065.0  \n",
            "1  1050.0  \n",
            "2  1185.0  \n",
            "3  1480.0  \n",
            "4   735.0  \n"
          ]
        }
      ]
    },
    {
      "cell_type": "code",
      "source": [
        "X = wine.values[:, 0:13]\n",
        "Y = wine_data.target\n",
        "\n",
        "X_train1, X_test1, Y_train1, Y_test1 = train_test_split(X, Y, test_size = 0.2, random_state = 100)\n",
        "X_train2, X_test2, Y_train2, Y_test2 = train_test_split(X, Y, test_size = 0.3, random_state = 100)\n",
        "X_train3, X_test3, Y_train3, Y_test3 = train_test_split(X, Y, test_size = 0.4, random_state = 100)\n",
        "\n",
        "clf = DecisionTreeClassifier(random_state=100)\n",
        "clf.fit(X_train1, Y_train1)\n",
        "clf.fit(X_train2, Y_train2)\n",
        "clf.fit(X_train3, Y_train3)\n",
        "\n",
        "Y_pred1 = clf.predict(X_test1)\n",
        "Y_pred2 = clf.predict(X_test2)\n",
        "Y_pred3 = clf.predict(X_test3)\n",
        "\n",
        "print(f\"Data Testing 20%: {Y_pred1}\")\n",
        "print(f\"Data Testing 30%: {Y_pred2}\")\n",
        "print(f\"Data Testing 40%: {Y_pred3}\")"
      ],
      "metadata": {
        "colab": {
          "base_uri": "https://localhost:8080/"
        },
        "id": "4z91FDKkk8fZ",
        "outputId": "5381c0b4-60a8-4ec7-c4fe-9fd45834cc90"
      },
      "execution_count": null,
      "outputs": [
        {
          "output_type": "stream",
          "name": "stdout",
          "text": [
            "Data Testing 20%: [1 2 0 0 1 1 1 2 1 0 2 1 2 2 2 0 2 0 1 0 0 0 2 1 0 0 1 1 1 2 2 1 0 1 2 1]\n",
            "Data Testing 30%: [1 2 0 0 1 1 1 2 1 0 2 1 2 2 2 0 2 0 1 0 0 0 2 1 0 0 1 1 1 2 2 1 0 1 2 1 1\n",
            " 1 2 2 0 1 2 2 0 2 2 2 0 0 0 1 0 1]\n",
            "Data Testing 40%: [1 2 0 0 1 1 1 2 1 0 2 1 2 2 2 0 2 0 1 0 0 0 2 1 0 0 1 1 1 2 2 1 0 1 2 1 1\n",
            " 1 2 2 0 1 2 2 0 2 2 2 0 0 0 1 0 1 2 2 0 0 1 1 0 2 0 1 1 2 1 0 0 1 0 0]\n"
          ]
        }
      ]
    },
    {
      "cell_type": "code",
      "source": [
        "tree.plot_tree(clf)\n",
        "text_representation = tree.export_text(clf)\n",
        "print(text_representation)"
      ],
      "metadata": {
        "id": "pPP607Ypm3qd",
        "colab": {
          "base_uri": "https://localhost:8080/",
          "height": 668
        },
        "outputId": "fa1c7ab8-b21f-4c65-c657-d5119c71be32"
      },
      "execution_count": null,
      "outputs": [
        {
          "output_type": "stream",
          "name": "stdout",
          "text": [
            "|--- feature_12 <= 760.00\n",
            "|   |--- feature_6 <= 1.27\n",
            "|   |   |--- feature_10 <= 1.00\n",
            "|   |   |   |--- class: 2\n",
            "|   |   |--- feature_10 >  1.00\n",
            "|   |   |   |--- class: 1\n",
            "|   |--- feature_6 >  1.27\n",
            "|   |   |--- feature_0 <= 13.17\n",
            "|   |   |   |--- class: 1\n",
            "|   |   |--- feature_0 >  13.17\n",
            "|   |   |   |--- feature_1 <= 2.12\n",
            "|   |   |   |   |--- class: 1\n",
            "|   |   |   |--- feature_1 >  2.12\n",
            "|   |   |   |   |--- class: 0\n",
            "|--- feature_12 >  760.00\n",
            "|   |--- feature_6 <= 1.61\n",
            "|   |   |--- feature_6 <= 0.90\n",
            "|   |   |   |--- class: 2\n",
            "|   |   |--- feature_6 >  0.90\n",
            "|   |   |   |--- class: 1\n",
            "|   |--- feature_6 >  1.61\n",
            "|   |   |--- class: 0\n",
            "\n"
          ]
        },
        {
          "output_type": "display_data",
          "data": {
            "text/plain": [
              "<Figure size 432x288 with 1 Axes>"
            ],
            "image/png": "[encoded data removed]"
          },
          "metadata": {
            "needs_background": "light"
          }
        }
      ]
    },
    {
      "cell_type": "code",
      "source": [
        "y_pred = clf.predict(X_test1)\n",
        "print(f\"Persentase Data Testing {int(0.2*100)}%\")\n",
        "acc = accuracy_score(Y_test1,Y_pred1)*100\n",
        "print(f\"Akurasi: {acc}%\")\n",
        "matrix = confusion_matrix(Y_test1, Y_pred1)\n",
        "print(f\"Confusion Matrix:\\n{matrix}\\n\")\n",
        "\n",
        "y_pred = clf.predict(X_test2)\n",
        "print(f\"Persentase Data Testing {int(0.3*100)}%\")\n",
        "acc = accuracy_score(Y_test2,Y_pred2)*100\n",
        "print(f\"Akurasi: {acc}%\")\n",
        "matrix = confusion_matrix(Y_test2, Y_pred2)\n",
        "print(f\"Confusion Matrix:\\n{matrix}\\n\")\n",
        "\n",
        "y_pred = clf.predict(X_test3)\n",
        "print(f\"Persentase Data Testing {int(0.4*100)}%\")\n",
        "acc = accuracy_score(Y_test3,Y_pred3)*100\n",
        "print(f\"Akurasi: {acc}%\")\n",
        "matrix = confusion_matrix(Y_test3, Y_pred3)\n",
        "print(f\"Confusion Matrix:\\n{matrix}\\n\")"
      ],
      "metadata": {
        "id": "zSX_wNM_ggO4",
        "colab": {
          "base_uri": "https://localhost:8080/"
        },
        "outputId": "b4e92770-ae8c-412b-c91f-aa5e77287192"
      },
      "execution_count": null,
      "outputs": [
        {
          "output_type": "stream",
          "name": "stdout",
          "text": [
            "Persentase Data Testing 20%\n",
            "Akurasi: 77.77777777777779%\n",
            "Confusion Matrix:\n",
            "[[ 8  0  0]\n",
            " [ 2 11  2]\n",
            " [ 1  3  9]]\n",
            "\n",
            "Persentase Data Testing 30%\n",
            "Akurasi: 83.33333333333334%\n",
            "Confusion Matrix:\n",
            "[[14  0  0]\n",
            " [ 2 15  2]\n",
            " [ 1  4 16]]\n",
            "\n",
            "Persentase Data Testing 40%\n",
            "Akurasi: 86.11111111111111%\n",
            "Confusion Matrix:\n",
            "[[21  0  0]\n",
            " [ 3 21  2]\n",
            " [ 1  4 20]]\n",
            "\n"
          ]
        }
      ]
    },
    {
      "cell_type": "markdown",
      "source": [
        "# **Dataset Pima Indian Diabetes**"
      ],
      "metadata": {
        "id": "KxEj8mq5oDvm"
      }
    },
    {
      "cell_type": "code",
      "source": [
        "db = pd.DataFrame(diabetes_data)\n",
        "print(\"Shape: \", db.shape)\n",
        "print(\"Dataset :\\n\", db.head())"
      ],
      "metadata": {
        "id": "QM7hiGU6koPH",
        "colab": {
          "base_uri": "https://localhost:8080/"
        },
        "outputId": "fc4ce76b-ccc7-4a08-c258-03e3f5e84bbf"
      },
      "execution_count": null,
      "outputs": [
        {
          "output_type": "stream",
          "name": "stdout",
          "text": [
            "Shape:  (768, 9)\n",
            "Dataset :\n",
            "    Pregnancies  Glucose  BloodPressure  SkinThickness  Insulin   BMI  \\\n",
            "0            6      148             72             35        0  33.6   \n",
            "1            1       85             66             29        0  26.6   \n",
            "2            8      183             64              0        0  23.3   \n",
            "3            1       89             66             23       94  28.1   \n",
            "4            0      137             40             35      168  43.1   \n",
            "\n",
            "   DiabetesPedigreeFunction  Age  Outcome  \n",
            "0                     0.627   50        1  \n",
            "1                     0.351   31        0  \n",
            "2                     0.672   32        1  \n",
            "3                     0.167   21        0  \n",
            "4                     2.288   33        1  \n"
          ]
        }
      ]
    },
    {
      "cell_type": "code",
      "source": [
        "X = diabetes_data.values[:, 0:8]\n",
        "Y = diabetes_data.values[:, 8]\n",
        "\n",
        "X_train1, X_test1, Y_train1, Y_test1 = train_test_split(X, Y, test_size = 0.2, random_state = 100)\n",
        "X_train2, X_test2, Y_train2, Y_test2 = train_test_split(X, Y, test_size = 0.3, random_state = 100)\n",
        "X_train3, X_test3, Y_train3, Y_test3 = train_test_split(X, Y, test_size = 0.4, random_state = 100)\n",
        "\n",
        "clf = DecisionTreeClassifier(random_state=100)\n",
        "clf.fit(X_train1, Y_train1)\n",
        "clf.fit(X_train2, Y_train2)\n",
        "clf.fit(X_train3, Y_train3)\n",
        "\n",
        "Y_pred1 = clf.predict(X_test1)\n",
        "Y_pred2 = clf.predict(X_test2)\n",
        "Y_pred3 = clf.predict(X_test3)\n",
        "\n",
        "print(f\"Data Testing 20%: {Y_pred1}\")\n",
        "print(f\"Data Testing 30%: {Y_pred2}\")\n",
        "print(f\"Data Testing 40%: {Y_pred3}\")"
      ],
      "metadata": {
        "id": "r6vKlvRloZc2",
        "colab": {
          "base_uri": "https://localhost:8080/"
        },
        "outputId": "c9795950-0f12-4541-ce71-427bfd3a8f7b"
      },
      "execution_count": null,
      "outputs": [
        {
          "output_type": "stream",
          "name": "stdout",
          "text": [
            "Data Testing 20%: [0. 0. 1. 0. 1. 1. 0. 1. 1. 0. 0. 1. 1. 0. 1. 0. 0. 0. 1. 1. 0. 0. 1. 1.\n",
            " 0. 0. 0. 0. 1. 0. 0. 1. 1. 1. 0. 0. 1. 0. 0. 0. 1. 1. 1. 0. 0. 1. 0. 0.\n",
            " 1. 1. 0. 0. 0. 1. 1. 1. 0. 0. 1. 0. 0. 0. 1. 1. 0. 0. 0. 0. 1. 0. 0. 1.\n",
            " 0. 0. 0. 1. 0. 1. 0. 0. 0. 1. 0. 0. 0. 0. 0. 1. 0. 1. 1. 0. 0. 0. 0. 1.\n",
            " 0. 0. 0. 0. 1. 0. 0. 0. 0. 0. 1. 1. 1. 1. 0. 0. 0. 1. 0. 0. 1. 0. 0. 0.\n",
            " 0. 0. 0. 0. 0. 0. 0. 0. 0. 0. 0. 1. 1. 0. 0. 1. 0. 1. 0. 1. 1. 1. 0. 1.\n",
            " 1. 0. 0. 0. 0. 0. 0. 1. 0. 1.]\n",
            "Data Testing 30%: [0. 0. 1. 0. 1. 1. 0. 1. 1. 0. 0. 1. 1. 0. 1. 0. 0. 0. 1. 1. 0. 0. 1. 1.\n",
            " 0. 0. 0. 0. 1. 0. 0. 1. 1. 1. 0. 0. 1. 0. 0. 0. 1. 1. 1. 0. 0. 1. 0. 0.\n",
            " 1. 1. 0. 0. 0. 1. 1. 1. 0. 0. 1. 0. 0. 0. 1. 1. 0. 0. 0. 0. 1. 0. 0. 1.\n",
            " 0. 0. 0. 1. 0. 1. 0. 0. 0. 1. 0. 0. 0. 0. 0. 1. 0. 1. 1. 0. 0. 0. 0. 1.\n",
            " 0. 0. 0. 0. 1. 0. 0. 0. 0. 0. 1. 1. 1. 1. 0. 0. 0. 1. 0. 0. 1. 0. 0. 0.\n",
            " 0. 0. 0. 0. 0. 0. 0. 0. 0. 0. 0. 1. 1. 0. 0. 1. 0. 1. 0. 1. 1. 1. 0. 1.\n",
            " 1. 0. 0. 0. 0. 0. 0. 1. 0. 1. 1. 0. 1. 1. 1. 0. 0. 0. 0. 0. 1. 0. 1. 0.\n",
            " 0. 0. 0. 1. 0. 0. 1. 0. 1. 0. 0. 1. 1. 1. 0. 0. 0. 0. 0. 1. 1. 1. 1. 0.\n",
            " 1. 1. 0. 0. 0. 1. 0. 1. 0. 1. 0. 1. 0. 0. 1. 1. 0. 0. 0. 1. 1. 1. 1. 1.\n",
            " 0. 1. 1. 0. 1. 0. 0. 1. 0. 1. 1. 0. 0. 1. 0.]\n",
            "Data Testing 40%: [0. 0. 1. 0. 1. 1. 0. 1. 1. 0. 0. 1. 1. 0. 1. 0. 0. 0. 1. 1. 0. 0. 1. 1.\n",
            " 0. 0. 0. 0. 1. 0. 0. 1. 1. 1. 0. 0. 1. 0. 0. 0. 1. 1. 1. 0. 0. 1. 0. 0.\n",
            " 1. 1. 0. 0. 0. 1. 1. 1. 0. 0. 1. 0. 0. 0. 1. 1. 0. 0. 0. 0. 1. 0. 0. 1.\n",
            " 0. 0. 0. 1. 0. 1. 0. 0. 0. 1. 0. 0. 0. 0. 0. 1. 0. 1. 1. 0. 0. 0. 0. 1.\n",
            " 0. 0. 0. 0. 1. 0. 0. 0. 0. 0. 1. 1. 1. 1. 0. 0. 0. 1. 0. 0. 1. 0. 0. 0.\n",
            " 0. 0. 0. 0. 0. 0. 0. 0. 0. 0. 0. 1. 1. 0. 0. 1. 0. 1. 0. 1. 1. 1. 0. 1.\n",
            " 1. 0. 0. 0. 0. 0. 0. 1. 0. 1. 1. 0. 1. 1. 1. 0. 0. 0. 0. 0. 1. 0. 1. 0.\n",
            " 0. 0. 0. 1. 0. 0. 1. 0. 1. 0. 0. 1. 1. 1. 0. 0. 0. 0. 0. 1. 1. 1. 1. 0.\n",
            " 1. 1. 0. 0. 0. 1. 0. 1. 0. 1. 0. 1. 0. 0. 1. 1. 0. 0. 0. 1. 1. 1. 1. 1.\n",
            " 0. 1. 1. 0. 1. 0. 0. 1. 0. 1. 1. 0. 0. 1. 0. 0. 1. 1. 0. 0. 0. 0. 0. 0.\n",
            " 0. 1. 1. 1. 0. 0. 0. 1. 0. 0. 1. 0. 0. 0. 0. 1. 0. 1. 0. 0. 0. 1. 1. 0.\n",
            " 0. 0. 0. 1. 0. 1. 1. 0. 1. 0. 0. 0. 1. 0. 1. 1. 0. 0. 0. 1. 1. 1. 0. 0.\n",
            " 0. 1. 1. 1. 0. 0. 0. 0. 0. 0. 1. 1. 1. 1. 0. 0. 0. 0. 0. 0.]\n"
          ]
        }
      ]
    },
    {
      "cell_type": "code",
      "source": [
        "tree.plot_tree(clf)\n",
        "text_representation = tree.export_text(clf)\n",
        "print(text_representation)"
      ],
      "metadata": {
        "id": "vDsWMGpZqLpc",
        "colab": {
          "base_uri": "https://localhost:8080/",
          "height": 1000
        },
        "outputId": "5c0f0207-c164-4989-b0df-f21d9cd32f19"
      },
      "execution_count": null,
      "outputs": [
        {
          "output_type": "stream",
          "name": "stdout",
          "text": [
            "|--- feature_1 <= 127.50\n",
            "|   |--- feature_7 <= 32.50\n",
            "|   |   |--- feature_0 <= 6.50\n",
            "|   |   |   |--- feature_5 <= 30.95\n",
            "|   |   |   |   |--- class: 0.0\n",
            "|   |   |   |--- feature_5 >  30.95\n",
            "|   |   |   |   |--- feature_6 <= 0.50\n",
            "|   |   |   |   |   |--- feature_2 <= 22.00\n",
            "|   |   |   |   |   |   |--- class: 1.0\n",
            "|   |   |   |   |   |--- feature_2 >  22.00\n",
            "|   |   |   |   |   |   |--- feature_5 <= 31.30\n",
            "|   |   |   |   |   |   |   |--- class: 1.0\n",
            "|   |   |   |   |   |   |--- feature_5 >  31.30\n",
            "|   |   |   |   |   |   |   |--- feature_5 <= 49.05\n",
            "|   |   |   |   |   |   |   |   |--- class: 0.0\n",
            "|   |   |   |   |   |   |   |--- feature_5 >  49.05\n",
            "|   |   |   |   |   |   |   |   |--- class: 1.0\n",
            "|   |   |   |   |--- feature_6 >  0.50\n",
            "|   |   |   |   |   |--- feature_0 <= 2.50\n",
            "|   |   |   |   |   |   |--- feature_5 <= 34.05\n",
            "|   |   |   |   |   |   |   |--- class: 1.0\n",
            "|   |   |   |   |   |   |--- feature_5 >  34.05\n",
            "|   |   |   |   |   |   |   |--- feature_4 <= 203.00\n",
            "|   |   |   |   |   |   |   |   |--- feature_6 <= 0.51\n",
            "|   |   |   |   |   |   |   |   |   |--- class: 1.0\n",
            "|   |   |   |   |   |   |   |   |--- feature_6 >  0.51\n",
            "|   |   |   |   |   |   |   |   |   |--- feature_5 <= 36.90\n",
            "|   |   |   |   |   |   |   |   |   |   |--- feature_3 <= 26.00\n",
            "|   |   |   |   |   |   |   |   |   |   |   |--- class: 0.0\n",
            "|   |   |   |   |   |   |   |   |   |   |--- feature_3 >  26.00\n",
            "|   |   |   |   |   |   |   |   |   |   |   |--- truncated branch of depth 2\n",
            "|   |   |   |   |   |   |   |   |   |--- feature_5 >  36.90\n",
            "|   |   |   |   |   |   |   |   |   |   |--- class: 0.0\n",
            "|   |   |   |   |   |   |   |--- feature_4 >  203.00\n",
            "|   |   |   |   |   |   |   |   |--- class: 1.0\n",
            "|   |   |   |   |   |--- feature_0 >  2.50\n",
            "|   |   |   |   |   |   |--- class: 0.0\n",
            "|   |   |--- feature_0 >  6.50\n",
            "|   |   |   |--- feature_5 <= 26.90\n",
            "|   |   |   |   |--- class: 0.0\n",
            "|   |   |   |--- feature_5 >  26.90\n",
            "|   |   |   |   |--- feature_6 <= 0.19\n",
            "|   |   |   |   |   |--- class: 0.0\n",
            "|   |   |   |   |--- feature_6 >  0.19\n",
            "|   |   |   |   |   |--- class: 1.0\n",
            "|   |--- feature_7 >  32.50\n",
            "|   |   |--- feature_5 <= 26.75\n",
            "|   |   |   |--- class: 0.0\n",
            "|   |   |--- feature_5 >  26.75\n",
            "|   |   |   |--- feature_6 <= 0.61\n",
            "|   |   |   |   |--- feature_1 <= 110.50\n",
            "|   |   |   |   |   |--- feature_0 <= 13.50\n",
            "|   |   |   |   |   |   |--- feature_0 <= 2.50\n",
            "|   |   |   |   |   |   |   |--- feature_6 <= 0.21\n",
            "|   |   |   |   |   |   |   |   |--- class: 0.0\n",
            "|   |   |   |   |   |   |   |--- feature_6 >  0.21\n",
            "|   |   |   |   |   |   |   |   |--- class: 1.0\n",
            "|   |   |   |   |   |   |--- feature_0 >  2.50\n",
            "|   |   |   |   |   |   |   |--- feature_5 <= 40.25\n",
            "|   |   |   |   |   |   |   |   |--- feature_7 <= 36.50\n",
            "|   |   |   |   |   |   |   |   |   |--- feature_3 <= 9.50\n",
            "|   |   |   |   |   |   |   |   |   |   |--- class: 1.0\n",
            "|   |   |   |   |   |   |   |   |   |--- feature_3 >  9.50\n",
            "|   |   |   |   |   |   |   |   |   |   |--- class: 0.0\n",
            "|   |   |   |   |   |   |   |   |--- feature_7 >  36.50\n",
            "|   |   |   |   |   |   |   |   |   |--- feature_7 <= 51.00\n",
            "|   |   |   |   |   |   |   |   |   |   |--- class: 0.0\n",
            "|   |   |   |   |   |   |   |   |   |--- feature_7 >  51.00\n",
            "|   |   |   |   |   |   |   |   |   |   |--- feature_7 <= 53.50\n",
            "|   |   |   |   |   |   |   |   |   |   |   |--- truncated branch of depth 2\n",
            "|   |   |   |   |   |   |   |   |   |   |--- feature_7 >  53.50\n",
            "|   |   |   |   |   |   |   |   |   |   |   |--- class: 0.0\n",
            "|   |   |   |   |   |   |   |--- feature_5 >  40.25\n",
            "|   |   |   |   |   |   |   |   |--- feature_2 <= 79.00\n",
            "|   |   |   |   |   |   |   |   |   |--- class: 0.0\n",
            "|   |   |   |   |   |   |   |   |--- feature_2 >  79.00\n",
            "|   |   |   |   |   |   |   |   |   |--- class: 1.0\n",
            "|   |   |   |   |   |--- feature_0 >  13.50\n",
            "|   |   |   |   |   |   |--- class: 1.0\n",
            "|   |   |   |   |--- feature_1 >  110.50\n",
            "|   |   |   |   |   |--- feature_2 <= 77.00\n",
            "|   |   |   |   |   |   |--- feature_0 <= 9.00\n",
            "|   |   |   |   |   |   |   |--- class: 1.0\n",
            "|   |   |   |   |   |   |--- feature_0 >  9.00\n",
            "|   |   |   |   |   |   |   |--- feature_5 <= 29.35\n",
            "|   |   |   |   |   |   |   |   |--- class: 1.0\n",
            "|   |   |   |   |   |   |   |--- feature_5 >  29.35\n",
            "|   |   |   |   |   |   |   |   |--- class: 0.0\n",
            "|   |   |   |   |   |--- feature_2 >  77.00\n",
            "|   |   |   |   |   |   |--- feature_4 <= 125.00\n",
            "|   |   |   |   |   |   |   |--- class: 0.0\n",
            "|   |   |   |   |   |   |--- feature_4 >  125.00\n",
            "|   |   |   |   |   |   |   |--- feature_1 <= 120.00\n",
            "|   |   |   |   |   |   |   |   |--- class: 1.0\n",
            "|   |   |   |   |   |   |   |--- feature_1 >  120.00\n",
            "|   |   |   |   |   |   |   |   |--- class: 0.0\n",
            "|   |   |   |--- feature_6 >  0.61\n",
            "|   |   |   |   |--- feature_2 <= 25.00\n",
            "|   |   |   |   |   |--- class: 0.0\n",
            "|   |   |   |   |--- feature_2 >  25.00\n",
            "|   |   |   |   |   |--- feature_2 <= 90.00\n",
            "|   |   |   |   |   |   |--- feature_7 <= 37.00\n",
            "|   |   |   |   |   |   |   |--- feature_1 <= 95.50\n",
            "|   |   |   |   |   |   |   |   |--- class: 0.0\n",
            "|   |   |   |   |   |   |   |--- feature_1 >  95.50\n",
            "|   |   |   |   |   |   |   |   |--- feature_0 <= 4.50\n",
            "|   |   |   |   |   |   |   |   |   |--- class: 0.0\n",
            "|   |   |   |   |   |   |   |   |--- feature_0 >  4.50\n",
            "|   |   |   |   |   |   |   |   |   |--- class: 1.0\n",
            "|   |   |   |   |   |   |--- feature_7 >  37.00\n",
            "|   |   |   |   |   |   |   |--- class: 1.0\n",
            "|   |   |   |   |   |--- feature_2 >  90.00\n",
            "|   |   |   |   |   |   |--- class: 0.0\n",
            "|--- feature_1 >  127.50\n",
            "|   |--- feature_5 <= 29.95\n",
            "|   |   |--- feature_1 <= 145.50\n",
            "|   |   |   |--- feature_6 <= 0.56\n",
            "|   |   |   |   |--- feature_6 <= 0.25\n",
            "|   |   |   |   |   |--- feature_3 <= 28.00\n",
            "|   |   |   |   |   |   |--- class: 0.0\n",
            "|   |   |   |   |   |--- feature_3 >  28.00\n",
            "|   |   |   |   |   |   |--- class: 1.0\n",
            "|   |   |   |   |--- feature_6 >  0.25\n",
            "|   |   |   |   |   |--- feature_4 <= 135.00\n",
            "|   |   |   |   |   |   |--- feature_1 <= 132.00\n",
            "|   |   |   |   |   |   |   |--- class: 0.0\n",
            "|   |   |   |   |   |   |--- feature_1 >  132.00\n",
            "|   |   |   |   |   |   |   |--- class: 1.0\n",
            "|   |   |   |   |   |--- feature_4 >  135.00\n",
            "|   |   |   |   |   |   |--- class: 0.0\n",
            "|   |   |   |--- feature_6 >  0.56\n",
            "|   |   |   |   |--- class: 0.0\n",
            "|   |   |--- feature_1 >  145.50\n",
            "|   |   |   |--- feature_7 <= 61.00\n",
            "|   |   |   |   |--- feature_7 <= 25.50\n",
            "|   |   |   |   |   |--- class: 0.0\n",
            "|   |   |   |   |--- feature_7 >  25.50\n",
            "|   |   |   |   |   |--- feature_2 <= 73.00\n",
            "|   |   |   |   |   |   |--- class: 1.0\n",
            "|   |   |   |   |   |--- feature_2 >  73.00\n",
            "|   |   |   |   |   |   |--- feature_7 <= 41.00\n",
            "|   |   |   |   |   |   |   |--- feature_0 <= 3.50\n",
            "|   |   |   |   |   |   |   |   |--- feature_6 <= 0.24\n",
            "|   |   |   |   |   |   |   |   |   |--- class: 0.0\n",
            "|   |   |   |   |   |   |   |   |--- feature_6 >  0.24\n",
            "|   |   |   |   |   |   |   |   |   |--- class: 1.0\n",
            "|   |   |   |   |   |   |   |--- feature_0 >  3.50\n",
            "|   |   |   |   |   |   |   |   |--- class: 0.0\n",
            "|   |   |   |   |   |   |--- feature_7 >  41.00\n",
            "|   |   |   |   |   |   |   |--- class: 1.0\n",
            "|   |   |   |--- feature_7 >  61.00\n",
            "|   |   |   |   |--- class: 0.0\n",
            "|   |--- feature_5 >  29.95\n",
            "|   |   |--- feature_1 <= 166.00\n",
            "|   |   |   |--- feature_6 <= 0.44\n",
            "|   |   |   |   |--- feature_2 <= 61.00\n",
            "|   |   |   |   |   |--- class: 1.0\n",
            "|   |   |   |   |--- feature_2 >  61.00\n",
            "|   |   |   |   |   |--- feature_5 <= 30.80\n",
            "|   |   |   |   |   |   |--- class: 1.0\n",
            "|   |   |   |   |   |--- feature_5 >  30.80\n",
            "|   |   |   |   |   |   |--- feature_2 <= 92.00\n",
            "|   |   |   |   |   |   |   |--- feature_5 <= 34.10\n",
            "|   |   |   |   |   |   |   |   |--- feature_1 <= 160.50\n",
            "|   |   |   |   |   |   |   |   |   |--- feature_0 <= 7.50\n",
            "|   |   |   |   |   |   |   |   |   |   |--- class: 0.0\n",
            "|   |   |   |   |   |   |   |   |   |--- feature_0 >  7.50\n",
            "|   |   |   |   |   |   |   |   |   |   |--- feature_7 <= 37.00\n",
            "|   |   |   |   |   |   |   |   |   |   |   |--- class: 0.0\n",
            "|   |   |   |   |   |   |   |   |   |   |--- feature_7 >  37.00\n",
            "|   |   |   |   |   |   |   |   |   |   |   |--- class: 1.0\n",
            "|   |   |   |   |   |   |   |   |--- feature_1 >  160.50\n",
            "|   |   |   |   |   |   |   |   |   |--- class: 1.0\n",
            "|   |   |   |   |   |   |   |--- feature_5 >  34.10\n",
            "|   |   |   |   |   |   |   |   |--- feature_4 <= 252.50\n",
            "|   |   |   |   |   |   |   |   |   |--- feature_1 <= 129.50\n",
            "|   |   |   |   |   |   |   |   |   |   |--- class: 0.0\n",
            "|   |   |   |   |   |   |   |   |   |--- feature_1 >  129.50\n",
            "|   |   |   |   |   |   |   |   |   |   |--- feature_2 <= 84.50\n",
            "|   |   |   |   |   |   |   |   |   |   |   |--- truncated branch of depth 2\n",
            "|   |   |   |   |   |   |   |   |   |   |--- feature_2 >  84.50\n",
            "|   |   |   |   |   |   |   |   |   |   |   |--- class: 0.0\n",
            "|   |   |   |   |   |   |   |   |--- feature_4 >  252.50\n",
            "|   |   |   |   |   |   |   |   |   |--- feature_7 <= 32.50\n",
            "|   |   |   |   |   |   |   |   |   |   |--- class: 0.0\n",
            "|   |   |   |   |   |   |   |   |   |--- feature_7 >  32.50\n",
            "|   |   |   |   |   |   |   |   |   |   |--- class: 1.0\n",
            "|   |   |   |   |   |   |--- feature_2 >  92.00\n",
            "|   |   |   |   |   |   |   |--- class: 1.0\n",
            "|   |   |   |--- feature_6 >  0.44\n",
            "|   |   |   |   |--- feature_4 <= 435.00\n",
            "|   |   |   |   |   |--- feature_7 <= 30.00\n",
            "|   |   |   |   |   |   |--- feature_7 <= 27.50\n",
            "|   |   |   |   |   |   |   |--- class: 1.0\n",
            "|   |   |   |   |   |   |--- feature_7 >  27.50\n",
            "|   |   |   |   |   |   |   |--- class: 0.0\n",
            "|   |   |   |   |   |--- feature_7 >  30.00\n",
            "|   |   |   |   |   |   |--- feature_0 <= 12.50\n",
            "|   |   |   |   |   |   |   |--- class: 1.0\n",
            "|   |   |   |   |   |   |--- feature_0 >  12.50\n",
            "|   |   |   |   |   |   |   |--- feature_2 <= 44.00\n",
            "|   |   |   |   |   |   |   |   |--- class: 1.0\n",
            "|   |   |   |   |   |   |   |--- feature_2 >  44.00\n",
            "|   |   |   |   |   |   |   |   |--- class: 0.0\n",
            "|   |   |   |   |--- feature_4 >  435.00\n",
            "|   |   |   |   |   |--- class: 0.0\n",
            "|   |   |--- feature_1 >  166.00\n",
            "|   |   |   |--- feature_6 <= 2.11\n",
            "|   |   |   |   |--- feature_2 <= 92.50\n",
            "|   |   |   |   |   |--- class: 1.0\n",
            "|   |   |   |   |--- feature_2 >  92.50\n",
            "|   |   |   |   |   |--- feature_4 <= 120.00\n",
            "|   |   |   |   |   |   |--- class: 0.0\n",
            "|   |   |   |   |   |--- feature_4 >  120.00\n",
            "|   |   |   |   |   |   |--- class: 1.0\n",
            "|   |   |   |--- feature_6 >  2.11\n",
            "|   |   |   |   |--- class: 0.0\n",
            "\n"
          ]
        },
        {
          "output_type": "display_data",
          "data": {
            "text/plain": [
              "<Figure size 432x288 with 1 Axes>"
            ],
            "image/png": "[encoded data removed]"
          },
          "metadata": {
            "needs_background": "light"
          }
        }
      ]
    },
    {
      "cell_type": "code",
      "source": [
        "y_pred = clf.predict(X_test1)\n",
        "print(f\"Persentase Data Testing {int(0.2*100)}%\")\n",
        "acc = accuracy_score(Y_test1,Y_pred1)*100\n",
        "print(f\"Akurasi: {acc}%\")\n",
        "matrix = confusion_matrix(Y_test1, Y_pred1)\n",
        "print(f\"Confusion Matrix:\\n{matrix}\\n\")\n",
        "\n",
        "y_pred = clf.predict(X_test2)\n",
        "print(f\"Persentase Data Testing {int(0.3*100)}%\")\n",
        "acc = accuracy_score(Y_test2,Y_pred2)*100\n",
        "print(f\"Akurasi: {acc}%\")\n",
        "matrix = confusion_matrix(Y_test2, Y_pred2)\n",
        "print(f\"Confusion Matrix:\\n{matrix}\\n\")\n",
        "\n",
        "y_pred = clf.predict(X_test3)\n",
        "print(f\"Persentase Data Testing {int(0.4*100)}%\")\n",
        "acc = accuracy_score(Y_test3,Y_pred3)*100\n",
        "print(f\"Akurasi: {acc}%\")\n",
        "matrix = confusion_matrix(Y_test3, Y_pred3)\n",
        "print(f\"Confusion Matrix:\\n{matrix}\\n\")"
      ],
      "metadata": {
        "id": "Udm3XpFdqTGt",
        "colab": {
          "base_uri": "https://localhost:8080/"
        },
        "outputId": "43397743-1548-4634-a59d-df72d7d88f35"
      },
      "execution_count": null,
      "outputs": [
        {
          "output_type": "stream",
          "name": "stdout",
          "text": [
            "Persentase Data Testing 20%\n",
            "Akurasi: 69.48051948051948%\n",
            "Confusion Matrix:\n",
            "[[76 25]\n",
            " [22 31]]\n",
            "\n",
            "Persentase Data Testing 30%\n",
            "Akurasi: 70.12987012987013%\n",
            "Confusion Matrix:\n",
            "[[110  40]\n",
            " [ 29  52]]\n",
            "\n",
            "Persentase Data Testing 40%\n",
            "Akurasi: 72.07792207792207%\n",
            "Confusion Matrix:\n",
            "[[149  47]\n",
            " [ 39  73]]\n",
            "\n"
          ]
        }
      ]
    },
    {
      "cell_type": "markdown",
      "source": [
        "# **Dataset Breast Cancer**"
      ],
      "metadata": {
        "id": "VhTkQ8MtqavQ"
      }
    },
    {
      "cell_type": "code",
      "source": [
        "bc_data = load_breast_cancer()\n",
        "bc = pd.DataFrame(bc_data.data)\n",
        "bc\n",
        "bc.info()"
      ],
      "metadata": {
        "id": "UjvAu2CkhXep",
        "colab": {
          "base_uri": "https://localhost:8080/"
        },
        "outputId": "bb3eec63-7441-4be5-f393-d39dfdf2aa91"
      },
      "execution_count": null,
      "outputs": [
        {
          "output_type": "stream",
          "name": "stdout",
          "text": [
            "<class 'pandas.core.frame.DataFrame'>\n",
            "RangeIndex: 569 entries, 0 to 568\n",
            "Data columns (total 30 columns):\n",
            " #   Column  Non-Null Count  Dtype  \n",
            "---  ------  --------------  -----  \n",
            " 0   0       569 non-null    float64\n",
            " 1   1       569 non-null    float64\n",
            " 2   2       569 non-null    float64\n",
            " 3   3       569 non-null    float64\n",
            " 4   4       569 non-null    float64\n",
            " 5   5       569 non-null    float64\n",
            " 6   6       569 non-null    float64\n",
            " 7   7       569 non-null    float64\n",
            " 8   8       569 non-null    float64\n",
            " 9   9       569 non-null    float64\n",
            " 10  10      569 non-null    float64\n",
            " 11  11      569 non-null    float64\n",
            " 12  12      569 non-null    float64\n",
            " 13  13      569 non-null    float64\n",
            " 14  14      569 non-null    float64\n",
            " 15  15      569 non-null    float64\n",
            " 16  16      569 non-null    float64\n",
            " 17  17      569 non-null    float64\n",
            " 18  18      569 non-null    float64\n",
            " 19  19      569 non-null    float64\n",
            " 20  20      569 non-null    float64\n",
            " 21  21      569 non-null    float64\n",
            " 22  22      569 non-null    float64\n",
            " 23  23      569 non-null    float64\n",
            " 24  24      569 non-null    float64\n",
            " 25  25      569 non-null    float64\n",
            " 26  26      569 non-null    float64\n",
            " 27  27      569 non-null    float64\n",
            " 28  28      569 non-null    float64\n",
            " 29  29      569 non-null    float64\n",
            "dtypes: float64(30)\n",
            "memory usage: 133.5 KB\n"
          ]
        }
      ]
    },
    {
      "cell_type": "code",
      "source": [
        "print(\"Features Name : \", bc_data.feature_names)\n",
        "print(\"Shape: \", bc.shape)\n",
        "print(\"Dataset :\\n\", bc.head())"
      ],
      "metadata": {
        "id": "RNUu2M3Pq2Y4",
        "colab": {
          "base_uri": "https://localhost:8080/"
        },
        "outputId": "fc9b9238-f3ff-4c70-93af-50e74d8fc430"
      },
      "execution_count": null,
      "outputs": [
        {
          "output_type": "stream",
          "name": "stdout",
          "text": [
            "Features Name :  ['mean radius' 'mean texture' 'mean perimeter' 'mean area'\n",
            " 'mean smoothness' 'mean compactness' 'mean concavity'\n",
            " 'mean concave points' 'mean symmetry' 'mean fractal dimension'\n",
            " 'radius error' 'texture error' 'perimeter error' 'area error'\n",
            " 'smoothness error' 'compactness error' 'concavity error'\n",
            " 'concave points error' 'symmetry error' 'fractal dimension error'\n",
            " 'worst radius' 'worst texture' 'worst perimeter' 'worst area'\n",
            " 'worst smoothness' 'worst compactness' 'worst concavity'\n",
            " 'worst concave points' 'worst symmetry' 'worst fractal dimension']\n",
            "Shape:  (569, 30)\n",
            "Dataset :\n",
            "       0      1       2       3        4        5       6        7       8   \\\n",
            "0  17.99  10.38  122.80  1001.0  0.11840  0.27760  0.3001  0.14710  0.2419   \n",
            "1  20.57  17.77  132.90  1326.0  0.08474  0.07864  0.0869  0.07017  0.1812   \n",
            "2  19.69  21.25  130.00  1203.0  0.10960  0.15990  0.1974  0.12790  0.2069   \n",
            "3  11.42  20.38   77.58   386.1  0.14250  0.28390  0.2414  0.10520  0.2597   \n",
            "4  20.29  14.34  135.10  1297.0  0.10030  0.13280  0.1980  0.10430  0.1809   \n",
            "\n",
            "        9   ...     20     21      22      23      24      25      26      27  \\\n",
            "0  0.07871  ...  25.38  17.33  184.60  2019.0  0.1622  0.6656  0.7119  0.2654   \n",
            "1  0.05667  ...  24.99  23.41  158.80  1956.0  0.1238  0.1866  0.2416  0.1860   \n",
            "2  0.05999  ...  23.57  25.53  152.50  1709.0  0.1444  0.4245  0.4504  0.2430   \n",
            "3  0.09744  ...  14.91  26.50   98.87   567.7  0.2098  0.8663  0.6869  0.2575   \n",
            "4  0.05883  ...  22.54  16.67  152.20  1575.0  0.1374  0.2050  0.4000  0.1625   \n",
            "\n",
            "       28       29  \n",
            "0  0.4601  0.11890  \n",
            "1  0.2750  0.08902  \n",
            "2  0.3613  0.08758  \n",
            "3  0.6638  0.17300  \n",
            "4  0.2364  0.07678  \n",
            "\n",
            "[5 rows x 30 columns]\n"
          ]
        }
      ]
    },
    {
      "cell_type": "code",
      "source": [
        "X = bc.values[:, 0:30]\n",
        "Y = bc_data.target\n",
        "\n",
        "X_train1, X_test1, Y_train1, Y_test1 = train_test_split(X, Y, test_size = 0.2, random_state = 100)\n",
        "X_train2, X_test2, Y_train2, Y_test2 = train_test_split(X, Y, test_size = 0.3, random_state = 100)\n",
        "X_train3, X_test3, Y_train3, Y_test3 = train_test_split(X, Y, test_size = 0.4, random_state = 100)\n",
        "\n",
        "clf = DecisionTreeClassifier(random_state=100)\n",
        "clf.fit(X_train1, Y_train1)\n",
        "clf.fit(X_train2, Y_train2)\n",
        "clf.fit(X_train3, Y_train3)\n",
        "\n",
        "Y_pred1 = clf.predict(X_test1)\n",
        "Y_pred2 = clf.predict(X_test2)\n",
        "Y_pred3 = clf.predict(X_test3)\n",
        "\n",
        "print(f\"Data Testing 20%: {Y_pred1}\")\n",
        "print(f\"Data Testing 30%: {Y_pred2}\")\n",
        "print(f\"Data Testing 40%: {Y_pred3}\")"
      ],
      "metadata": {
        "id": "0ynKpMhDrIXc",
        "colab": {
          "base_uri": "https://localhost:8080/"
        },
        "outputId": "f399fe3d-abbe-4cb8-ee45-636b06ea9847"
      },
      "execution_count": null,
      "outputs": [
        {
          "output_type": "stream",
          "name": "stdout",
          "text": [
            "Data Testing 20%: [0 1 1 1 1 1 1 0 1 0 1 0 0 0 1 1 0 1 1 1 1 1 0 0 0 0 1 1 1 1 1 1 1 0 0 1 1\n",
            " 1 1 0 0 1 1 0 1 0 0 1 1 1 1 1 1 0 1 1 1 0 1 1 0 0 1 1 0 1 0 0 1 0 0 1 0 0\n",
            " 1 1 0 0 0 1 1 0 0 0 1 0 0 1 0 1 1 1 1 0 1 0 0 1 0 1 0 0 1 1 1 1 1 1 1 1 0\n",
            " 1 0 1]\n",
            "Data Testing 30%: [0 1 1 1 1 1 1 0 1 0 1 0 0 0 1 1 0 1 1 1 1 1 0 0 0 0 1 1 1 1 1 1 1 0 0 1 1\n",
            " 1 1 0 0 1 1 0 1 0 0 1 1 1 1 1 1 0 1 1 1 0 1 1 0 0 1 1 0 1 0 0 1 0 0 1 0 0\n",
            " 1 1 0 0 0 1 1 0 0 0 1 0 0 1 0 1 1 1 1 0 1 0 0 1 0 1 0 0 1 1 1 1 1 1 1 1 0\n",
            " 1 0 1 1 1 0 1 1 1 0 1 1 0 1 1 1 0 1 1 1 1 0 1 1 1 1 1 1 1 0 0 1 1 1 1 1 0\n",
            " 0 1 1 0 0 0 1 0 0 0 1 1 1 1 0 1 1 1 0 0 1 0 1]\n",
            "Data Testing 40%: [0 1 1 1 1 1 1 0 1 0 1 0 0 0 1 1 0 1 1 1 1 1 0 0 0 0 1 1 1 1 1 1 1 0 0 1 1\n",
            " 1 1 0 0 1 1 0 1 0 0 1 1 1 1 1 1 0 1 1 1 0 1 1 0 0 1 1 0 1 0 0 1 0 0 1 0 0\n",
            " 1 1 0 0 0 1 1 0 0 0 1 0 0 1 0 1 1 1 1 0 1 0 0 1 0 1 0 0 1 1 1 1 1 1 1 1 0\n",
            " 1 0 1 1 1 0 1 1 1 0 1 1 0 1 1 1 0 1 1 1 1 0 1 1 1 1 1 1 1 0 0 1 1 1 1 1 0\n",
            " 0 1 1 0 0 0 1 0 0 0 1 1 1 1 0 1 1 1 0 0 1 0 1 0 0 1 0 1 0 1 1 1 1 1 1 1 1\n",
            " 0 1 1 1 1 1 0 1 1 1 0 0 1 1 1 1 0 1 1 0 0 1 0 0 0 1 1 1 0 1 1 0 0 0 1 1 1\n",
            " 0 1 1 1 1 0]\n"
          ]
        }
      ]
    },
    {
      "cell_type": "code",
      "source": [
        "tree.plot_tree(clf)\n",
        "text_representation = tree.export_text(clf)\n",
        "print(text_representation)"
      ],
      "metadata": {
        "id": "bCNrvflnrtHt",
        "colab": {
          "base_uri": "https://localhost:8080/",
          "height": 1000
        },
        "outputId": "45b0980b-6cff-4143-8ba4-dfa5abf90796"
      },
      "execution_count": null,
      "outputs": [
        {
          "output_type": "stream",
          "name": "stdout",
          "text": [
            "|--- feature_27 <= 0.14\n",
            "|   |--- feature_13 <= 36.47\n",
            "|   |   |--- feature_27 <= 0.13\n",
            "|   |   |   |--- feature_21 <= 33.10\n",
            "|   |   |   |   |--- class: 1\n",
            "|   |   |   |--- feature_21 >  33.10\n",
            "|   |   |   |   |--- feature_21 <= 33.80\n",
            "|   |   |   |   |   |--- class: 0\n",
            "|   |   |   |   |--- feature_21 >  33.80\n",
            "|   |   |   |   |   |--- class: 1\n",
            "|   |   |--- feature_27 >  0.13\n",
            "|   |   |   |--- feature_18 <= 0.01\n",
            "|   |   |   |   |--- class: 0\n",
            "|   |   |   |--- feature_18 >  0.01\n",
            "|   |   |   |   |--- feature_9 <= 0.06\n",
            "|   |   |   |   |   |--- class: 0\n",
            "|   |   |   |   |--- feature_9 >  0.06\n",
            "|   |   |   |   |   |--- class: 1\n",
            "|   |--- feature_13 >  36.47\n",
            "|   |   |--- feature_21 <= 22.76\n",
            "|   |   |   |--- class: 1\n",
            "|   |   |--- feature_21 >  22.76\n",
            "|   |   |   |--- feature_4 <= 0.08\n",
            "|   |   |   |   |--- class: 1\n",
            "|   |   |   |--- feature_4 >  0.08\n",
            "|   |   |   |   |--- class: 0\n",
            "|--- feature_27 >  0.14\n",
            "|   |--- feature_23 <= 710.20\n",
            "|   |   |--- feature_27 <= 0.18\n",
            "|   |   |   |--- class: 1\n",
            "|   |   |--- feature_27 >  0.18\n",
            "|   |   |   |--- class: 0\n",
            "|   |--- feature_23 >  710.20\n",
            "|   |   |--- feature_26 <= 0.20\n",
            "|   |   |   |--- class: 1\n",
            "|   |   |--- feature_26 >  0.20\n",
            "|   |   |   |--- feature_10 <= 0.25\n",
            "|   |   |   |   |--- feature_5 <= 0.10\n",
            "|   |   |   |   |   |--- class: 1\n",
            "|   |   |   |   |--- feature_5 >  0.10\n",
            "|   |   |   |   |   |--- class: 0\n",
            "|   |   |   |--- feature_10 >  0.25\n",
            "|   |   |   |   |--- class: 0\n",
            "\n"
          ]
        },
        {
          "output_type": "display_data",
          "data": {
            "text/plain": [
              "<Figure size 432x288 with 1 Axes>"
            ],
            "image/png": "[encoded data removed]"
          },
          "metadata": {
            "needs_background": "light"
          }
        }
      ]
    },
    {
      "cell_type": "code",
      "source": [
        "y_pred = clf.predict(X_test1)\n",
        "print(f\"Persentase Data Testing {int(0.2*100)}%\")\n",
        "acc = accuracy_score(Y_test1,Y_pred1)*100\n",
        "print(f\"Akurasi: {acc}%\")\n",
        "matrix = confusion_matrix(Y_test1, Y_pred1)\n",
        "print(f\"Confusion Matrix:\\n{matrix}\\n\")\n",
        "\n",
        "y_pred = clf.predict(X_test2)\n",
        "print(f\"Persentase Data Testing {int(0.3*100)}%\")\n",
        "acc = accuracy_score(Y_test2,Y_pred2)*100\n",
        "print(f\"Akurasi: {acc}%\")\n",
        "matrix = confusion_matrix(Y_test2, Y_pred2)\n",
        "print(f\"Confusion Matrix:\\n{matrix}\\n\")\n",
        "\n",
        "y_pred = clf.predict(X_test3)\n",
        "print(f\"Persentase Data Testing {int(0.4*100)}%\")\n",
        "acc = accuracy_score(Y_test3,Y_pred3)*100\n",
        "print(f\"Akurasi: {acc}%\")\n",
        "matrix = confusion_matrix(Y_test3, Y_pred3)\n",
        "print(f\"Confusion Matrix:\\n{matrix}\\n\")"
      ],
      "metadata": {
        "id": "y4i2YMcjr022",
        "colab": {
          "base_uri": "https://localhost:8080/"
        },
        "outputId": "63d82be0-7a17-411b-8634-c6ae6fb0bc03"
      },
      "execution_count": null,
      "outputs": [
        {
          "output_type": "stream",
          "name": "stdout",
          "text": [
            "Persentase Data Testing 20%\n",
            "Akurasi: 92.10526315789474%\n",
            "Confusion Matrix:\n",
            "[[43  6]\n",
            " [ 3 62]]\n",
            "\n",
            "Persentase Data Testing 30%\n",
            "Akurasi: 91.81286549707602%\n",
            "Confusion Matrix:\n",
            "[[60  9]\n",
            " [ 5 97]]\n",
            "\n",
            "Persentase Data Testing 40%\n",
            "Akurasi: 92.10526315789474%\n",
            "Confusion Matrix:\n",
            "[[ 77  10]\n",
            " [  8 133]]\n",
            "\n"
          ]
        }
      ]
    }
  ]
}